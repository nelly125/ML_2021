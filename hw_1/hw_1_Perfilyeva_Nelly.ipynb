{
 "cells": [
  {
   "cell_type": "markdown",
   "metadata": {
    "id": "xLAPvJRi_mVT"
   },
   "source": [
    "**Общая информация**\n",
    "\n",
    "**Срок сдачи:** 29 марта 2021, 08:30 \n",
    "\n",
    "**Штраф за опоздание:** по 1 баллу за 24 часа задержки. Через 5 дней домашнее задание сгорает.\n",
    "\n",
    "При отправлении ДЗ указывайте фамилию в названии файла\n",
    "Присылать ДЗ необходимо в виде ссылки на свой github репозиторий на почту ml1.sphere@mail.ru с указанием темы в следующем формате:\n",
    "\n",
    "[ML0220, Задание 1] Фамилия Имя.\n",
    "\n",
    "Используйте данный Ipython Notebook при оформлении домашнего задания."
   ]
  },
  {
   "cell_type": "markdown",
   "metadata": {
    "id": "SyVTpYA4_mVX"
   },
   "source": [
    "\n",
    "**Штрафные баллы:**\n",
    "\n",
    "1. Отсутствие фамилии в имени скрипта (скрипт должен называться по аналогии со stroykova_hw1.ipynb) -0.5 баллов\n",
    "2. Все строчки должны быть выполнены. Нужно, чтобы output команды можно было увидеть уже в git'е. В противном случае -0.5 баллов\n"
   ]
  },
  {
   "cell_type": "code",
   "execution_count": 1,
   "metadata": {
    "executionInfo": {
     "elapsed": 33946,
     "status": "ok",
     "timestamp": 1616185009784,
     "user": {
      "displayName": "Нелли Перфильева",
      "photoUrl": "https://lh3.googleusercontent.com/a-/AOh14Gh7RDr6qjsPbOLq85guFghVm5n_f-dYWYcSq1XACA=s64",
      "userId": "12243161316241103758"
     },
     "user_tz": -180
    },
    "id": "DwWL0hIE_mVY"
   },
   "outputs": [],
   "source": [
    "import numpy as np\n",
    "import matplotlib.pyplot as plt\n",
    " \n",
    "import seaborn as sns\n",
    "from sklearn import datasets\n",
    "from sklearn.base import BaseEstimator\n",
    "from sklearn.datasets import fetch_openml\n",
    "mnist = fetch_openml('mnist_784')\n",
    "from sklearn.datasets import fetch_20newsgroups\n",
    " \n",
    "from sklearn.model_selection import train_test_split\n",
    "from sklearn.neighbors import KNeighborsClassifier\n",
    "from sklearn.metrics import accuracy_score\n",
    " \n",
    "from sklearn.neighbors import KDTree\n",
    "from sklearn.metrics import pairwise\n",
    "from scipy.spatial import distance\n",
    "from scipy.stats import mode\n",
    "from sklearn.feature_extraction.text import CountVectorizer\n",
    "from sklearn.feature_extraction.text import TfidfVectorizer\n",
    "from sklearn.model_selection import cross_val_score\n",
    "from collections import Counter\n",
    "from sklearn.preprocessing import StandardScaler\n",
    "from sklearn.model_selection import KFold"
   ]
  },
  {
   "cell_type": "markdown",
   "metadata": {
    "id": "Z-CSn8I-_mVZ"
   },
   "source": [
    "##### Задание 1 (1 балл)\n",
    "Реализовать KNN в классе MyKNeighborsClassifier (обязательное условие: точность не ниже sklearn реализации)\n",
    "Разберитесь самостоятельно, какая мера расстояния используется в KNeighborsClassifier дефолтно и реализуйте свой алгоритм именно с этой мерой. \n",
    "Для подсчета расстояний можно использовать функции [отсюда](https://docs.scipy.org/doc/scipy/reference/spatial.distance.html)"
   ]
  },
  {
   "cell_type": "code",
   "execution_count": 2,
   "metadata": {
    "executionInfo": {
     "elapsed": 33924,
     "status": "ok",
     "timestamp": 1616185009789,
     "user": {
      "displayName": "Нелли Перфильева",
      "photoUrl": "https://lh3.googleusercontent.com/a-/AOh14Gh7RDr6qjsPbOLq85guFghVm5n_f-dYWYcSq1XACA=s64",
      "userId": "12243161316241103758"
     },
     "user_tz": -180
    },
    "id": "7-2V6ZiM_mVZ"
   },
   "outputs": [],
   "source": [
    "class MyKNeighborsClassifier(BaseEstimator):\n",
    "    \n",
    "    def __init__(self, n_neighbors, algorithm='brute', metric = 'euclidean'):\n",
    "        self.n_neighbors = n_neighbors\n",
    "        self.algorithm = algorithm\n",
    "        self.metric = metric\n",
    "    \n",
    "    def fit(self, X, y):\n",
    "        if(self.algorithm == 'brute'):\n",
    "            self.X = X\n",
    "            self.y = y\n",
    "        if(self.algorithm == 'kd_tree'):\n",
    "            self.tree = KDTree(X, leaf_size=20, metric='euclidean')\n",
    "            self.y = y\n",
    "    \n",
    "    \n",
    "    def fit_brute(self, X, y):\n",
    "            self.X = X\n",
    "            self.y = y    \n",
    "    \n",
    "    \n",
    "    def predict(self, X):\n",
    "        if(self.algorithm == 'brute'):\n",
    "            dist = distance.cdist(X, self.X, metric= self.metric)\n",
    "            ind = np.argpartition(dist, self.n_neighbors, axis = 1)[:, :self.n_neighbors]\n",
    "            place = self.y[ind]\n",
    "            y_pred = mode(place, axis=1)[0].ravel()\n",
    "            return y_pred\n",
    " \n",
    "    \n",
    "        if(self.algorithm == 'kd_tree'):\n",
    "            dd, ii = self.tree.query(X, self.n_neighbors)\n",
    "            place = self.y[ii]\n",
    "            y_pred = mode(place, axis=1)[0].ravel()\n",
    "            return y_pred"
   ]
  },
  {
   "cell_type": "code",
   "execution_count": null,
   "metadata": {
    "id": "DLyNK3xd_mVb"
   },
   "outputs": [],
   "source": [
    "#         dist = pairwise.pairwise_distances(X, self.X, metric='euclidean')"
   ]
  },
  {
   "cell_type": "markdown",
   "metadata": {
    "id": "hx8MPcab_mVd"
   },
   "source": [
    "**IRIS**\n",
    "\n",
    "В библиотеке scikit-learn есть несколько датасетов из коробки. Один из них [Ирисы Фишера](https://ru.wikipedia.org/wiki/%D0%98%D1%80%D0%B8%D1%81%D1%8B_%D0%A4%D0%B8%D1%88%D0%B5%D1%80%D0%B0)"
   ]
  },
  {
   "cell_type": "code",
   "execution_count": 19,
   "metadata": {
    "id": "nm0gSnO8_mVe"
   },
   "outputs": [],
   "source": [
    "iris = datasets.load_iris()"
   ]
  },
  {
   "cell_type": "code",
   "execution_count": 20,
   "metadata": {
    "id": "nf7ZFRBT_mVf"
   },
   "outputs": [],
   "source": [
    "X_train, X_test, y_train, y_test = train_test_split(iris.data, iris.target, test_size=0.1, stratify=iris.target)"
   ]
  },
  {
   "cell_type": "code",
   "execution_count": 21,
   "metadata": {
    "id": "Uxg9lfwb_mVf"
   },
   "outputs": [],
   "source": [
    "clf = KNeighborsClassifier(n_neighbors=2, algorithm='brute')\n",
    "my_clf = MyKNeighborsClassifier(n_neighbors=2, algorithm='brute')"
   ]
  },
  {
   "cell_type": "code",
   "execution_count": 22,
   "metadata": {
    "id": "-ucMIjTz_mVg",
    "outputId": "0636e393-4d1d-470e-b228-54dfddfa66cc"
   },
   "outputs": [
    {
     "data": {
      "text/plain": [
       "KNeighborsClassifier(algorithm='brute', n_neighbors=2)"
      ]
     },
     "execution_count": 22,
     "metadata": {},
     "output_type": "execute_result"
    }
   ],
   "source": [
    "clf = KNeighborsClassifier(n_neighbors=2, algorithm='brute')\n",
    "clf.fit(X_train, y_train)"
   ]
  },
  {
   "cell_type": "code",
   "execution_count": 23,
   "metadata": {
    "id": "VFiQbow-_mVg"
   },
   "outputs": [],
   "source": [
    "clf.fit(X_train, y_train)\n",
    "my_clf.fit(X_train, y_train)\n",
    "sklearn_pred = clf.predict(X_test)\n",
    "# print(sklearn_pred)"
   ]
  },
  {
   "cell_type": "code",
   "execution_count": 24,
   "metadata": {
    "id": "Ukd_O08p_mVh",
    "outputId": "2454e8ba-ff79-4c74-9b6e-d8143f4ce898"
   },
   "outputs": [
    {
     "name": "stdout",
     "output_type": "stream",
     "text": [
      "[1 2 2 0 2 1 2 1 2 0 1 0 0 0 1]\n"
     ]
    }
   ],
   "source": [
    "my_clf_pred = my_clf.predict(X_test)\n",
    "print(my_clf_pred)"
   ]
  },
  {
   "cell_type": "code",
   "execution_count": 25,
   "metadata": {
    "id": "qb-7p3dj_mVi"
   },
   "outputs": [],
   "source": [
    "my_clf_pred = my_clf.predict(X_test)"
   ]
  },
  {
   "cell_type": "code",
   "execution_count": 26,
   "metadata": {
    "id": "PJKgcNCO_mVi",
    "outputId": "966d8ed4-6cfd-4dea-b4f7-1f88edf97440"
   },
   "outputs": [
    {
     "data": {
      "text/plain": [
       "array([1, 2, 2, 0, 2, 1, 2, 1, 2, 0, 1, 0, 0, 0, 1])"
      ]
     },
     "execution_count": 26,
     "metadata": {},
     "output_type": "execute_result"
    }
   ],
   "source": [
    "my_clf_pred"
   ]
  },
  {
   "cell_type": "code",
   "execution_count": 27,
   "metadata": {
    "id": "bTIR_FOe_mVj",
    "outputId": "9da6ad53-c014-4fb6-d7d8-f921618c1f7f"
   },
   "outputs": [
    {
     "name": "stdout",
     "output_type": "stream",
     "text": [
      "[1 2 2 0 2 1 2 1 2 0 1 0 0 0 1]\n"
     ]
    }
   ],
   "source": [
    "sklearn_pred = clf.predict(X_test)\n",
    "print(sklearn_pred)"
   ]
  },
  {
   "cell_type": "code",
   "execution_count": 28,
   "metadata": {
    "id": "T8Emrpbi_mVk"
   },
   "outputs": [],
   "source": [
    "sklearn_pred = clf.predict(X_test)\n",
    "my_clf_pred = my_clf.predict(X_test)\n",
    "assert abs( accuracy_score(y_test, my_clf_pred) -  accuracy_score(y_test, sklearn_pred ) )<0.005, \"Score must be simillar\""
   ]
  },
  {
   "cell_type": "markdown",
   "metadata": {
    "id": "KQmTdtRE_mVl"
   },
   "source": [
    "**Задание 2 (0.5 балла)**\n",
    "\n",
    "Давайте попробуем добиться скорости работы на fit, predict сравнимой со sklearn для iris. Допускается замедление не более чем в 2 раза. \n",
    "Для этого используем numpy. "
   ]
  },
  {
   "cell_type": "code",
   "execution_count": 54,
   "metadata": {
    "id": "Mcj3-1Ab_mVl",
    "outputId": "c08488b4-f7e6-4257-804b-0f66ead4a2b1"
   },
   "outputs": [
    {
     "name": "stdout",
     "output_type": "stream",
     "text": [
      "CPU times: user 1.96 ms, sys: 1.89 ms, total: 3.85 ms\n",
      "Wall time: 8.37 ms\n"
     ]
    },
    {
     "data": {
      "text/plain": [
       "KNeighborsClassifier(algorithm='brute', n_neighbors=2)"
      ]
     },
     "execution_count": 54,
     "metadata": {},
     "output_type": "execute_result"
    }
   ],
   "source": [
    "%time clf.fit(X_train, y_train)"
   ]
  },
  {
   "cell_type": "code",
   "execution_count": 56,
   "metadata": {
    "id": "-_jKHk11_mVm",
    "outputId": "3a9db398-5287-4451-c43b-2ab036d98102"
   },
   "outputs": [
    {
     "name": "stdout",
     "output_type": "stream",
     "text": [
      "CPU times: user 25 µs, sys: 0 ns, total: 25 µs\n",
      "Wall time: 38.6 µs\n"
     ]
    }
   ],
   "source": [
    "%time my_clf.fit(X_train, y_train)"
   ]
  },
  {
   "cell_type": "code",
   "execution_count": 47,
   "metadata": {
    "id": "7ZlR9hd5_mVm",
    "outputId": "064b23ec-7f2a-4422-9fae-ad38dd82afd1"
   },
   "outputs": [
    {
     "name": "stdout",
     "output_type": "stream",
     "text": [
      "CPU times: user 4.71 ms, sys: 970 µs, total: 5.68 ms\n",
      "Wall time: 4.19 ms\n"
     ]
    },
    {
     "data": {
      "text/plain": [
       "array([1, 2, 2, 0, 2, 1, 2, 1, 2, 0, 1, 0, 0, 0, 1])"
      ]
     },
     "execution_count": 47,
     "metadata": {},
     "output_type": "execute_result"
    }
   ],
   "source": [
    "%time clf.predict(X_test)"
   ]
  },
  {
   "cell_type": "code",
   "execution_count": 34,
   "metadata": {
    "id": "czFw1Cxv_mVn",
    "outputId": "f856adad-1da7-43f9-91f6-4c41777f193d"
   },
   "outputs": [
    {
     "name": "stdout",
     "output_type": "stream",
     "text": [
      "CPU times: user 6.54 ms, sys: 987 µs, total: 7.53 ms\n",
      "Wall time: 7.74 ms\n"
     ]
    },
    {
     "data": {
      "text/plain": [
       "array([1, 2, 2, 0, 2, 1, 2, 1, 2, 0, 1, 0, 0, 0, 1])"
      ]
     },
     "execution_count": 34,
     "metadata": {},
     "output_type": "execute_result"
    }
   ],
   "source": [
    "%time my_clf.predict(X_test)"
   ]
  },
  {
   "cell_type": "markdown",
   "metadata": {
    "id": "sOXFPBrs_mVn"
   },
   "source": [
    "###### Задание 3 (1 балл)\n",
    "Добавьте algorithm='kd_tree' в реализацию KNN (использовать KDTree из sklearn.neighbors). Необходимо добиться скорости работы на fit,  predict сравнимой со sklearn для iris. Допускается замедление не более чем в 2 раза. \n",
    "Для этого используем numpy. Точность не должна уступать значению KNN из sklearn. "
   ]
  },
  {
   "cell_type": "code",
   "execution_count": 57,
   "metadata": {
    "id": "h3C8vvcI_mVo"
   },
   "outputs": [],
   "source": [
    "clf = KNeighborsClassifier(n_neighbors=2, algorithm='kd_tree')\n",
    "my_clf = MyKNeighborsClassifier(n_neighbors=2, algorithm='kd_tree')"
   ]
  },
  {
   "cell_type": "code",
   "execution_count": 58,
   "metadata": {
    "id": "M-7WYcjL_mVo"
   },
   "outputs": [],
   "source": [
    "X_train, X_test, y_train, y_test = train_test_split(iris.data, iris.target, test_size=0.1, stratify=iris.target)"
   ]
  },
  {
   "cell_type": "code",
   "execution_count": 59,
   "metadata": {
    "id": "hzsUimGm_mVo",
    "outputId": "a1fb3933-568a-44fd-bf06-2aba967758da"
   },
   "outputs": [
    {
     "name": "stdout",
     "output_type": "stream",
     "text": [
      "CPU times: user 2.86 ms, sys: 964 µs, total: 3.83 ms\n",
      "Wall time: 12.1 ms\n"
     ]
    },
    {
     "data": {
      "text/plain": [
       "KNeighborsClassifier(algorithm='kd_tree', n_neighbors=2)"
      ]
     },
     "execution_count": 59,
     "metadata": {},
     "output_type": "execute_result"
    }
   ],
   "source": [
    "%time clf.fit(X_train, y_train)"
   ]
  },
  {
   "cell_type": "code",
   "execution_count": 60,
   "metadata": {
    "id": "rcHm8JY7_mVp",
    "outputId": "f7e71700-892c-4318-e03f-12085ca733ac"
   },
   "outputs": [
    {
     "name": "stdout",
     "output_type": "stream",
     "text": [
      "CPU times: user 620 µs, sys: 1.86 ms, total: 2.48 ms\n",
      "Wall time: 2.74 ms\n"
     ]
    }
   ],
   "source": [
    "%time my_clf.fit(X_train, y_train)"
   ]
  },
  {
   "cell_type": "code",
   "execution_count": 61,
   "metadata": {
    "id": "LiIRUVB2_mVq",
    "outputId": "727c9628-6968-40b4-a3ec-1b3540fa2c56"
   },
   "outputs": [
    {
     "name": "stdout",
     "output_type": "stream",
     "text": [
      "CPU times: user 7.3 ms, sys: 3.97 ms, total: 11.3 ms\n",
      "Wall time: 13 ms\n"
     ]
    },
    {
     "data": {
      "text/plain": [
       "array([0, 1, 0, 0, 2, 1, 0, 2, 2, 2, 1, 0, 1, 1, 2])"
      ]
     },
     "execution_count": 61,
     "metadata": {},
     "output_type": "execute_result"
    }
   ],
   "source": [
    "%time clf.predict(X_test)"
   ]
  },
  {
   "cell_type": "code",
   "execution_count": 62,
   "metadata": {
    "id": "2HwAcHmY_mVq",
    "outputId": "b960e32a-fe56-4e7d-8bae-a57372230b6e"
   },
   "outputs": [
    {
     "name": "stdout",
     "output_type": "stream",
     "text": [
      "CPU times: user 5.94 ms, sys: 971 µs, total: 6.91 ms\n",
      "Wall time: 6.58 ms\n"
     ]
    },
    {
     "data": {
      "text/plain": [
       "array([0, 1, 0, 0, 2, 1, 0, 2, 2, 2, 1, 0, 1, 1, 2])"
      ]
     },
     "execution_count": 62,
     "metadata": {},
     "output_type": "execute_result"
    }
   ],
   "source": [
    "%time my_clf.predict(X_test)"
   ]
  },
  {
   "cell_type": "code",
   "execution_count": 63,
   "metadata": {
    "id": "H_sLWl9R_mVr"
   },
   "outputs": [],
   "source": [
    "sklearn_pred = clf.predict(X_test)\n",
    "my_clf_pred = my_clf.predict(X_test)\n",
    "assert abs( accuracy_score(y_test, my_clf_pred) -  accuracy_score(y_test, sklearn_pred ) )<0.005, \"Score must be simillar\""
   ]
  },
  {
   "cell_type": "markdown",
   "metadata": {
    "id": "yi3QSLwe_mVr"
   },
   "source": [
    "**Задание 4 (2.5 балла)**\n",
    "\n",
    "Рассмотрим новый датасет 20 newsgroups"
   ]
  },
  {
   "cell_type": "code",
   "execution_count": 3,
   "metadata": {
    "colab": {
     "base_uri": "https://localhost:8080/"
    },
    "executionInfo": {
     "elapsed": 14684,
     "status": "ok",
     "timestamp": 1616185024479,
     "user": {
      "displayName": "Нелли Перфильева",
      "photoUrl": "https://lh3.googleusercontent.com/a-/AOh14Gh7RDr6qjsPbOLq85guFghVm5n_f-dYWYcSq1XACA=s64",
      "userId": "12243161316241103758"
     },
     "user_tz": -180
    },
    "id": "D6Agx2Ml_mVr",
    "outputId": "b7bc52de-ff9f-456f-fa9a-7bd6bc9cb962"
   },
   "outputs": [],
   "source": [
    "newsgroups = fetch_20newsgroups(subset='train',remove=['headers','footers', 'quotes'])"
   ]
  },
  {
   "cell_type": "code",
   "execution_count": 4,
   "metadata": {
    "executionInfo": {
     "elapsed": 14685,
     "status": "ok",
     "timestamp": 1616185024486,
     "user": {
      "displayName": "Нелли Перфильева",
      "photoUrl": "https://lh3.googleusercontent.com/a-/AOh14Gh7RDr6qjsPbOLq85guFghVm5n_f-dYWYcSq1XACA=s64",
      "userId": "12243161316241103758"
     },
     "user_tz": -180
    },
    "id": "jSwgadRg_mVs"
   },
   "outputs": [],
   "source": [
    "data = newsgroups['data']\n",
    "target = newsgroups['target']"
   ]
  },
  {
   "cell_type": "markdown",
   "metadata": {
    "id": "76_3fAzW_mVu"
   },
   "source": [
    "Преобразуйте текстовые данные из data с помощью [CountVectorizer](https://scikit-learn.org/stable/modules/generated/sklearn.feature_extraction.text.CountVectorizer.html). Словарь можно ограничить по частотности."
   ]
  },
  {
   "cell_type": "code",
   "execution_count": 5,
   "metadata": {
    "colab": {
     "base_uri": "https://localhost:8080/"
    },
    "executionInfo": {
     "elapsed": 4459,
     "status": "ok",
     "timestamp": 1616150490184,
     "user": {
      "displayName": "Нелли Перфильева",
      "photoUrl": "https://lh3.googleusercontent.com/a-/AOh14Gh7RDr6qjsPbOLq85guFghVm5n_f-dYWYcSq1XACA=s64",
      "userId": "12243161316241103758"
     },
     "user_tz": -180
    },
    "id": "CEZNqQXx_mVw",
    "outputId": "17f80fe6-aba9-4662-c6c1-bbe2de505243"
   },
   "outputs": [
    {
     "data": {
      "text/plain": [
       "(11314, 1500)"
      ]
     },
     "execution_count": 5,
     "metadata": {},
     "output_type": "execute_result"
    }
   ],
   "source": [
    "vectorizer = CountVectorizer(max_features=1500, min_df=0.005, max_df = 0.9)\n",
    "X = vectorizer.fit_transform(data).toarray()\n",
    "scaler = StandardScaler()\n",
    "X = scaler.fit_transform(X)\n",
    "X.shape"
   ]
  },
  {
   "cell_type": "markdown",
   "metadata": {
    "id": "HLsJomCp_mVx"
   },
   "source": [
    "*Так мы получили векторное представление наших текстов. Значит можно приступать к задаче обучения модели*"
   ]
  },
  {
   "cell_type": "markdown",
   "metadata": {
    "id": "-9afCf0e_mVy"
   },
   "source": [
    "Реализуйте разбиение выборки для кросс-валидации на 3 фолдах. Разрешено использовать sklearn.cross_validation"
   ]
  },
  {
   "cell_type": "code",
   "execution_count": null,
   "metadata": {
    "id": "lPJTVVW7_mVz"
   },
   "outputs": [],
   "source": [
    "kf = KFold(n_splits=3)"
   ]
  },
  {
   "cell_type": "markdown",
   "metadata": {
    "id": "pSA7uWut_mV0"
   },
   "source": [
    "Напишите метод, позволяющий найти оптимальное количество ближайших соседей(дающее максимальную точность в среднем на валидации на 3 фолдах).\n",
    "Постройте график зависимости средней точности от количества соседей. Можно рассмотреть число соседей от 1 до 10."
   ]
  },
  {
   "cell_type": "code",
   "execution_count": null,
   "metadata": {
    "id": "mu9PQKf-n0Uv"
   },
   "outputs": [],
   "source": [
    "from sklearn.model_selection import cross_validate"
   ]
  },
  {
   "cell_type": "code",
   "execution_count": null,
   "metadata": {
    "id": "1K3LZZsR_mV0"
   },
   "outputs": [],
   "source": [
    "def optim(X, y, value_score, n = 10, metrics = 'euclidean'):\n",
    "    for i in range(1, n+1):\n",
    "        print('k', i)\n",
    "        score = []\n",
    "        for train, test in kf.split(target):\n",
    "            X_train, y_train = X[train], target[train]\n",
    "            X_test, y_test = X[test], target[test]\n",
    "            my_clf = MyKNeighborsClassifier(n_neighbors = i, algorithm = 'brute', metric = metrics)\n",
    "            my_clf.fit(X_train, y_train) \n",
    "            y_pred = my_clf.predict(X_test)\n",
    "            score.append(accuracy_score(y_pred, y_test))\n",
    "            # scores = cross_validate(my_clf, X, y, scoring=['accuracy'], cv=kf)\n",
    "        value_score.append(np.mean(score))\n",
    "    # plt.plot(np.arange(1, n+1), value_score)"
   ]
  },
  {
   "cell_type": "code",
   "execution_count": null,
   "metadata": {
    "colab": {
     "base_uri": "https://localhost:8080/"
    },
    "executionInfo": {
     "elapsed": 1351908,
     "status": "ok",
     "timestamp": 1616135394517,
     "user": {
      "displayName": "Нелли Перфильева",
      "photoUrl": "https://lh3.googleusercontent.com/a-/AOh14Gh7RDr6qjsPbOLq85guFghVm5n_f-dYWYcSq1XACA=s64",
      "userId": "12243161316241103758"
     },
     "user_tz": -180
    },
    "id": "GMdH2W_UxjTl",
    "outputId": "7f94da16-bc77-426e-f15c-20459da7bad2"
   },
   "outputs": [
    {
     "name": "stdout",
     "output_type": "stream",
     "text": [
      "k 1\n",
      "k 2\n",
      "k 3\n",
      "k 4\n",
      "k 5\n",
      "k 6\n",
      "k 7\n",
      "k 8\n",
      "k 9\n",
      "k 10\n",
      "CPU times: user 22min 29s, sys: 182 ms, total: 22min 29s\n",
      "Wall time: 22min 31s\n"
     ]
    }
   ],
   "source": [
    "value_score_10_euclidean = []\n",
    "%time optim(X, target, value_score_10_euclidean, 10, metrics = 'euclidean')"
   ]
  },
  {
   "cell_type": "code",
   "execution_count": null,
   "metadata": {
    "colab": {
     "base_uri": "https://localhost:8080/"
    },
    "executionInfo": {
     "elapsed": 1353608,
     "status": "ok",
     "timestamp": 1616134041676,
     "user": {
      "displayName": "Нелли Перфильева",
      "photoUrl": "https://lh3.googleusercontent.com/a-/AOh14Gh7RDr6qjsPbOLq85guFghVm5n_f-dYWYcSq1XACA=s64",
      "userId": "12243161316241103758"
     },
     "user_tz": -180
    },
    "id": "2nJwqnPUcAdB",
    "outputId": "aa53f181-7e07-47a1-c9d1-514c7aaaa32b"
   },
   "outputs": [
    {
     "name": "stdout",
     "output_type": "stream",
     "text": [
      "k 1\n",
      "k 2\n",
      "k 3\n",
      "k 4\n",
      "k 5\n",
      "k 6\n",
      "k 7\n",
      "k 8\n",
      "k 9\n",
      "k 10\n",
      "CPU times: user 22min 30s, sys: 708 ms, total: 22min 31s\n",
      "Wall time: 22min 32s\n"
     ]
    }
   ],
   "source": [
    "#cosine max_n = 10\n",
    "value_score_10_cosine = []\n",
    "%time optim(X, target, value_score_10_cosine, 10, metrics = 'cosine')"
   ]
  },
  {
   "cell_type": "code",
   "execution_count": null,
   "metadata": {
    "colab": {
     "base_uri": "https://localhost:8080/",
     "height": 285
    },
    "executionInfo": {
     "elapsed": 903,
     "status": "ok",
     "timestamp": 1616067413001,
     "user": {
      "displayName": "Нелли Перфильева",
      "photoUrl": "https://lh3.googleusercontent.com/a-/AOh14Gh7RDr6qjsPbOLq85guFghVm5n_f-dYWYcSq1XACA=s64",
      "userId": "12243161316241103758"
     },
     "user_tz": -180
    },
    "id": "vRr_MfmmH1dq",
    "outputId": "e02139a0-e5c7-4220-c14a-b5ca029da85d"
   },
   "outputs": [
    {
     "data": {
      "text/plain": [
       "[<matplotlib.lines.Line2D at 0x7f40954f06d0>]"
      ]
     },
     "execution_count": 15,
     "metadata": {
      "tags": []
     },
     "output_type": "execute_result"
    },
    {
     "data": {
      "image/png": "[encoded data removed]",
      "text/plain": [
       "<Figure size 432x288 with 1 Axes>"
      ]
     },
     "metadata": {
      "tags": []
     },
     "output_type": "display_data"
    }
   ],
   "source": [
    "value_score_30\n",
    "plt.plot(np.arange(1, 31), value_score_30)"
   ]
  },
  {
   "cell_type": "markdown",
   "metadata": {
    "id": "U8dZiBjL_mV2"
   },
   "source": [
    "Как изменится качество на валидации, если:\n",
    "\n",
    "1. Используется косинусная метрика вместо евклидовой.\n",
    "2. К текстам применяется TfIdf векторизацию( sklearn.feature_extraction.text.TfidfVectorizer)\n",
    "\n",
    "Сравните модели, выберите лучшую."
   ]
  },
  {
   "cell_type": "code",
   "execution_count": null,
   "metadata": {
    "colab": {
     "base_uri": "https://localhost:8080/",
     "height": 515
    },
    "executionInfo": {
     "elapsed": 1093,
     "status": "ok",
     "timestamp": 1616135569589,
     "user": {
      "displayName": "Нелли Перфильева",
      "photoUrl": "https://lh3.googleusercontent.com/a-/AOh14Gh7RDr6qjsPbOLq85guFghVm5n_f-dYWYcSq1XACA=s64",
      "userId": "12243161316241103758"
     },
     "user_tz": -180
    },
    "id": "pFBVsDPp2HFP",
    "outputId": "a7cc3572-813c-4950-b998-0f0f7a3856a6"
   },
   "outputs": [
    {
     "name": "stdout",
     "output_type": "stream",
     "text": [
      "The best k euclidean:  1\n",
      "The best score euclidean:  0.20823745221645085\n",
      "The best k cosine:  10\n",
      "The best score cosine:  0.3226086150384523\n",
      "Косинусная метрика лучше\n"
     ]
    },
    {
     "data": {
      "image/png": "[encoded data removed]",
      "text/plain": [
       "<Figure size 720x504 with 1 Axes>"
      ]
     },
     "metadata": {
      "needs_background": "light",
      "tags": []
     },
     "output_type": "display_data"
    }
   ],
   "source": [
    "# max_n = 10\n",
    "fig = plt.figure(figsize= (10,7))\n",
    "ax = fig.add_subplot()\n",
    "x = np.arange(1, 11)\n",
    "ax.plot(x, value_score_10_euclidean, 'bo-', label = 'euclidean')\n",
    "ax.plot(x, value_score_10_cosine, 'ro-', label = 'cosine')\n",
    "ax.legend()\n",
    "the_best_k_euclidean = np.argmax(value_score_10_euclidean) + 1\n",
    "the_best_score_euclidean = np.max(value_score_10_euclidean)\n",
    "print('The best k euclidean: ', the_best_k_euclidean)\n",
    "print('The best score euclidean: ', the_best_score_euclidean)\n",
    "the_best_k_cosine = np.argmax(value_score_10_cosine) + 1\n",
    "the_best_score_cosine = np.max(value_score_10_cosine)\n",
    "print('The best k cosine: ', the_best_k_cosine)\n",
    "print('The best score cosine: ', the_best_score_cosine)\n",
    "print('Косинусная метрика лучше')"
   ]
  },
  {
   "cell_type": "markdown",
   "metadata": {
    "id": "ro9rbVS6cC0m"
   },
   "source": [
    "TFIDF"
   ]
  },
  {
   "cell_type": "code",
   "execution_count": 11,
   "metadata": {
    "colab": {
     "base_uri": "https://localhost:8080/"
    },
    "executionInfo": {
     "elapsed": 3469,
     "status": "ok",
     "timestamp": 1616185979363,
     "user": {
      "displayName": "Нелли Перфильева",
      "photoUrl": "https://lh3.googleusercontent.com/a-/AOh14Gh7RDr6qjsPbOLq85guFghVm5n_f-dYWYcSq1XACA=s64",
      "userId": "12243161316241103758"
     },
     "user_tz": -180
    },
    "id": "9yg5X6vM_Vi3",
    "outputId": "14326020-eaff-4517-f7a4-c76b55b1dba3"
   },
   "outputs": [
    {
     "data": {
      "text/plain": [
       "(11314, 2676)"
      ]
     },
     "execution_count": 11,
     "metadata": {},
     "output_type": "execute_result"
    }
   ],
   "source": [
    "vectorizer = TfidfVectorizer( min_df=0.005, max_df = 0.9)\n",
    "X = vectorizer.fit_transform(data).toarray()\n",
    "scaler = StandardScaler()\n",
    "X = scaler.fit_transform(X)\n",
    "X.shape"
   ]
  },
  {
   "cell_type": "code",
   "execution_count": null,
   "metadata": {
    "colab": {
     "base_uri": "https://localhost:8080/"
    },
    "executionInfo": {
     "elapsed": 1380782,
     "status": "ok",
     "timestamp": 1616100333247,
     "user": {
      "displayName": "Нелли Перфильева",
      "photoUrl": "https://lh3.googleusercontent.com/a-/AOh14Gh7RDr6qjsPbOLq85guFghVm5n_f-dYWYcSq1XACA=s64",
      "userId": "12243161316241103758"
     },
     "user_tz": -180
    },
    "id": "ZgBoH6gDAGtU",
    "outputId": "4b9adce2-3a62-4935-e14c-90a8143e01b2"
   },
   "outputs": [
    {
     "name": "stdout",
     "output_type": "stream",
     "text": [
      "k 1\n",
      "k 2\n",
      "k 3\n",
      "k 4\n",
      "k 5\n",
      "k 6\n",
      "k 7\n",
      "k 8\n",
      "k 9\n",
      "k 10\n",
      "CPU times: user 22min 54s, sys: 742 ms, total: 22min 55s\n",
      "Wall time: 23min\n"
     ]
    }
   ],
   "source": [
    "score_10_tfidf_euclidean = []\n",
    "%time optim(X, target, score_10_tfidf_euclidean, 10, metrics = 'euclidean')"
   ]
  },
  {
   "cell_type": "code",
   "execution_count": null,
   "metadata": {
    "colab": {
     "base_uri": "https://localhost:8080/"
    },
    "executionInfo": {
     "elapsed": 1333480,
     "status": "ok",
     "timestamp": 1616101668262,
     "user": {
      "displayName": "Нелли Перфильева",
      "photoUrl": "https://lh3.googleusercontent.com/a-/AOh14Gh7RDr6qjsPbOLq85guFghVm5n_f-dYWYcSq1XACA=s64",
      "userId": "12243161316241103758"
     },
     "user_tz": -180
    },
    "id": "sOiqS6xwAkRl",
    "outputId": "8b442ddb-5f80-4167-d86d-7e01c7477466"
   },
   "outputs": [
    {
     "name": "stdout",
     "output_type": "stream",
     "text": [
      "k 1\n",
      "k 2\n",
      "k 3\n",
      "k 4\n",
      "k 5\n",
      "k 6\n",
      "k 7\n",
      "k 8\n",
      "k 9\n",
      "k 10\n",
      "CPU times: user 22min 8s, sys: 421 ms, total: 22min 8s\n",
      "Wall time: 22min 12s\n"
     ]
    }
   ],
   "source": [
    "score_10_tfidf_cosine = []\n",
    "%time optim(X, target, score_10_tfidf_cosine, 10, metrics = 'cosine')"
   ]
  },
  {
   "cell_type": "code",
   "execution_count": null,
   "metadata": {
    "colab": {
     "base_uri": "https://localhost:8080/",
     "height": 497
    },
    "executionInfo": {
     "elapsed": 985,
     "status": "ok",
     "timestamp": 1616101698962,
     "user": {
      "displayName": "Нелли Перфильева",
      "photoUrl": "https://lh3.googleusercontent.com/a-/AOh14Gh7RDr6qjsPbOLq85guFghVm5n_f-dYWYcSq1XACA=s64",
      "userId": "12243161316241103758"
     },
     "user_tz": -180
    },
    "id": "uDmLQ63MG-aO",
    "outputId": "1e7f507f-0b8f-43f8-a6bb-b1268f3e82f0"
   },
   "outputs": [
    {
     "name": "stdout",
     "output_type": "stream",
     "text": [
      "The best k euclidean:  1\n",
      "The best score euclidean:  0.17968833704109585\n",
      "The best k cosine:  10\n",
      "The best score cosine:  0.4390139620153768\n"
     ]
    },
    {
     "data": {
      "image/png": "[encoded data removed]",
      "text/plain": [
       "<Figure size 720x504 with 1 Axes>"
      ]
     },
     "metadata": {
      "tags": []
     },
     "output_type": "display_data"
    }
   ],
   "source": [
    "# max_n = 10 tfidf\n",
    "fig = plt.figure(figsize= (10,7))\n",
    "ax = fig.add_subplot()\n",
    "x = np.arange(1, 11)\n",
    "ax.plot(x, score_10_tfidf_euclidean, 'bo-', label = 'euclidean')\n",
    "ax.plot(x, score_10_tfidf_cosine, 'ro-', label = 'cosine')\n",
    "ax.legend()\n",
    "the_best_k_euclidean = np.argmax(score_10_tfidf_euclidean) + 1\n",
    "the_best_score_euclidean = np.max(score_10_tfidf_euclidean)\n",
    "print('The best k euclidean: ', the_best_k_euclidean)\n",
    "print('The best score euclidean: ', the_best_score_euclidean)\n",
    "the_best_k_cosine = np.argmax(score_10_tfidf_cosine) + 1\n",
    "the_best_score_cosine = np.max(score_10_tfidf_cosine)\n",
    "print('The best k cosine: ', the_best_k_cosine)\n",
    "print('The best score cosine: ', the_best_score_cosine)"
   ]
  },
  {
   "cell_type": "markdown",
   "metadata": {
    "id": "H03kcfMHMlqL"
   },
   "source": [
    "Таким образом, векторизация tfidf дает лучший результат с метрикой cosine"
   ]
  },
  {
   "cell_type": "code",
   "execution_count": null,
   "metadata": {
    "id": "e_HhDmu4A8ho"
   },
   "outputs": [],
   "source": [
    "def optim_dx(X, y, value_score, start, end, dx, metrics = 'euclidean'):\n",
    "    for i in range(start, end+1, dx):\n",
    "        print('k', i)\n",
    "        score = []\n",
    "        for train, test in kf.split(target):\n",
    "            X_train, y_train = X[train], target[train]\n",
    "            X_test, y_test = X[test], target[test]\n",
    "            my_clf = MyKNeighborsClassifier(n_neighbors = i, algorithm = 'brute', metric = metrics)\n",
    "            my_clf.fit(X_train, y_train) \n",
    "            y_pred = my_clf.predict(X_test)\n",
    "            score.append(accuracy_score(y_pred, y_test))\n",
    "            # scores = cross_validate(my_clf, X, y, scoring=['accuracy'], cv=kf)\n",
    "        value_score.append(np.mean(score))\n",
    "    # plt.plot(np.arange(1, n+1), value_score)"
   ]
  },
  {
   "cell_type": "code",
   "execution_count": null,
   "metadata": {
    "colab": {
     "base_uri": "https://localhost:8080/"
    },
    "executionInfo": {
     "elapsed": 1909296,
     "status": "ok",
     "timestamp": 1616144891931,
     "user": {
      "displayName": "Нелли Перфильева",
      "photoUrl": "https://lh3.googleusercontent.com/a-/AOh14Gh7RDr6qjsPbOLq85guFghVm5n_f-dYWYcSq1XACA=s64",
      "userId": "12243161316241103758"
     },
     "user_tz": -180
    },
    "id": "OkdEta0ILkv7",
    "outputId": "348b9eaa-16dd-4d28-d4c1-347bb6b82cc9"
   },
   "outputs": [
    {
     "name": "stdout",
     "output_type": "stream",
     "text": [
      "k 1\n",
      "k 11\n",
      "k 21\n",
      "k 31\n",
      "k 41\n",
      "k 51\n",
      "k 61\n",
      "k 71\n",
      "k 81\n",
      "k 91\n",
      "k 101\n",
      "k 111\n",
      "k 121\n",
      "k 131\n",
      "k 141\n",
      "CPU times: user 31min 45s, sys: 314 ms, total: 31min 45s\n",
      "Wall time: 31min 48s\n"
     ]
    }
   ],
   "source": [
    "score_1_150_10_tfidf_cosine = []\n",
    "%time optim_dx(X, target, score_1_150_10_tfidf_cosine, 1, 150, 10, metrics = 'cosine')"
   ]
  },
  {
   "cell_type": "code",
   "execution_count": null,
   "metadata": {
    "id": "3DLZpo09oBA8"
   },
   "outputs": [],
   "source": [
    "score_1_150_10_cosine = score_1_150_10_tfidf_cosine"
   ]
  },
  {
   "cell_type": "code",
   "execution_count": null,
   "metadata": {
    "colab": {
     "base_uri": "https://localhost:8080/",
     "height": 515
    },
    "executionInfo": {
     "elapsed": 1640,
     "status": "ok",
     "timestamp": 1616145482179,
     "user": {
      "displayName": "Нелли Перфильева",
      "photoUrl": "https://lh3.googleusercontent.com/a-/AOh14Gh7RDr6qjsPbOLq85guFghVm5n_f-dYWYcSq1XACA=s64",
      "userId": "12243161316241103758"
     },
     "user_tz": -180
    },
    "id": "z7Y5-C8-LtRg",
    "outputId": "e5e06307-e6bd-432b-a234-b1f590cada5e"
   },
   "outputs": [
    {
     "name": "stdout",
     "output_type": "stream",
     "text": [
      "The best k cosine:  9\n",
      "The best score cosine:  0.3595544226515559\n",
      "The best k cosine:  15\n",
      "The best score cosine:  0.5462257124214216\n",
      "Следовательно, что cosine + tfidf даёт наилучший скор\n"
     ]
    },
    {
     "data": {
      "image/png": "[encoded data removed]",
      "text/plain": [
       "<Figure size 720x504 with 1 Axes>"
      ]
     },
     "metadata": {
      "needs_background": "light",
      "tags": []
     },
     "output_type": "display_data"
    }
   ],
   "source": [
    "fig = plt.figure(figsize= (10,7))\n",
    "ax = fig.add_subplot()\n",
    "x = np.arange(1, 150, 10)\n",
    "ax.plot(x, score_1_150_10_cosine, 'ro-', label = 'cosine')\n",
    "ax.plot(x, score_1_150_10_tfidf_cosine, 'go-', label = 'cosine + tfidf')\n",
    "ax.legend()\n",
    "the_best_k_cosine = np.argmax(score_1_150_10_cosine) + 1\n",
    "the_best_score_cosine = np.max(score_1_150_10_cosine)\n",
    "print('The best k cosine: ', the_best_k_cosine)\n",
    "print('The best score cosine: ', the_best_score_cosine)\n",
    "the_best_k_cosine = np.argmax(score_1_150_10_tfidf_cosine) + 1\n",
    "the_best_score_cosine = np.max(score_1_150_10_tfidf_cosine)\n",
    "print('The best k cosine: ', the_best_k_cosine)\n",
    "print('The best score cosine: ', the_best_score_cosine)\n",
    "print('Следовательно, что cosine + tfidf даёт наилучший скор')"
   ]
  },
  {
   "cell_type": "markdown",
   "metadata": {
    "id": "BmIRsolE_mV2"
   },
   "source": [
    "Загрузим  теперь test  часть нашей выборки и преобразуем её аналогично с train частью. Не забудьте, что наборы слов в train и test части могут отличаться."
   ]
  },
  {
   "cell_type": "code",
   "execution_count": 6,
   "metadata": {
    "executionInfo": {
     "elapsed": 13512,
     "status": "ok",
     "timestamp": 1616185028869,
     "user": {
      "displayName": "Нелли Перфильева",
      "photoUrl": "https://lh3.googleusercontent.com/a-/AOh14Gh7RDr6qjsPbOLq85guFghVm5n_f-dYWYcSq1XACA=s64",
      "userId": "12243161316241103758"
     },
     "user_tz": -180
    },
    "id": "uPt5fj0E_mV4"
   },
   "outputs": [],
   "source": [
    "newsgroups1 = fetch_20newsgroups(subset='test',remove=['headers','footers', 'quotes'])"
   ]
  },
  {
   "cell_type": "markdown",
   "metadata": {
    "id": "LyqBoS2h_mV4"
   },
   "source": [
    "Оценим точность вашей лучшей модели на test части датасета. Отличается ли оно от кросс-валидации? Попробуйте сделать выводы, почему отличается качество."
   ]
  },
  {
   "cell_type": "code",
   "execution_count": 7,
   "metadata": {
    "executionInfo": {
     "elapsed": 12084,
     "status": "ok",
     "timestamp": 1616185028871,
     "user": {
      "displayName": "Нелли Перфильева",
      "photoUrl": "https://lh3.googleusercontent.com/a-/AOh14Gh7RDr6qjsPbOLq85guFghVm5n_f-dYWYcSq1XACA=s64",
      "userId": "12243161316241103758"
     },
     "user_tz": -180
    },
    "id": "1YYIE4qkyF_B"
   },
   "outputs": [],
   "source": [
    "data1 = newsgroups1['data']\n",
    "target1 = newsgroups1['target']"
   ]
  },
  {
   "cell_type": "code",
   "execution_count": 13,
   "metadata": {
    "colab": {
     "base_uri": "https://localhost:8080/"
    },
    "executionInfo": {
     "elapsed": 3845,
     "status": "ok",
     "timestamp": 1616185993230,
     "user": {
      "displayName": "Нелли Перфильева",
      "photoUrl": "https://lh3.googleusercontent.com/a-/AOh14Gh7RDr6qjsPbOLq85guFghVm5n_f-dYWYcSq1XACA=s64",
      "userId": "12243161316241103758"
     },
     "user_tz": -180
    },
    "id": "ZDhVQpNx_mV5",
    "outputId": "91176d1d-c692-4098-e08e-7fc4c7ed630a"
   },
   "outputs": [
    {
     "data": {
      "text/plain": [
       "(7532, 2676)"
      ]
     },
     "execution_count": 13,
     "metadata": {},
     "output_type": "execute_result"
    }
   ],
   "source": [
    "names = np.array(vectorizer.get_feature_names())\n",
    "vectorizer2 = TfidfVectorizer(vocabulary=names, min_df=0.005, max_df = 0.9)\n",
    "X_test = vectorizer2.fit_transform(data1).toarray()\n",
    "scaler = StandardScaler()\n",
    "X_test = scaler.fit_transform(X_test)\n",
    "X_test.shape"
   ]
  },
  {
   "cell_type": "code",
   "execution_count": 14,
   "metadata": {
    "colab": {
     "base_uri": "https://localhost:8080/"
    },
    "executionInfo": {
     "elapsed": 181460,
     "status": "ok",
     "timestamp": 1616186177166,
     "user": {
      "displayName": "Нелли Перфильева",
      "photoUrl": "https://lh3.googleusercontent.com/a-/AOh14Gh7RDr6qjsPbOLq85guFghVm5n_f-dYWYcSq1XACA=s64",
      "userId": "12243161316241103758"
     },
     "user_tz": -180
    },
    "id": "6MRdfwNeEYYu",
    "outputId": "8550cb66-6c87-474f-e1ff-9c0b02542891"
   },
   "outputs": [
    {
     "name": "stdout",
     "output_type": "stream",
     "text": [
      "CPU times: user 4min 34s, sys: 4.1 s, total: 4min 38s\n",
      "Wall time: 4min 41s\n"
     ]
    },
    {
     "data": {
      "text/plain": [
       "0.411311736590547"
      ]
     },
     "execution_count": 14,
     "metadata": {},
     "output_type": "execute_result"
    }
   ],
   "source": [
    "my_clf = MyKNeighborsClassifier(n_neighbors=15, algorithm='brute', metric = 'cosine')\n",
    "my_clf.fit(X, target)\n",
    "%time y_pred = my_clf.predict(X_test)\n",
    "accuracy_score(y_pred, target1)"
   ]
  },
  {
   "cell_type": "markdown",
   "metadata": {
    "id": "1KZEv27JIs00"
   },
   "source": [
    "Скор на тесте стал меньше. Это объяснятся тем, что во время кросс-валидации мы так или иначе переобучаемся.\n",
    "Также одним из признаков является различие словарей и учет ограничений на словарь тестовой выборки, благодаря которым увеличивается скрость вычислений.\n",
    "Последний тест был сделан без ограничений на количество фичей. В результате получилось, что точность уменьшилась почти в 10 раз."
   ]
  },
  {
   "cell_type": "code",
   "execution_count": 16,
   "metadata": {},
   "outputs": [],
   "source": [
    "vectorizer3 = TfidfVectorizer(max_features=10000)\n",
    "X_test = vectorizer3.fit_transform(data1).toarray()"
   ]
  },
  {
   "cell_type": "code",
   "execution_count": 17,
   "metadata": {},
   "outputs": [
    {
     "data": {
      "text/plain": [
       "(11314, 10000)"
      ]
     },
     "execution_count": 17,
     "metadata": {},
     "output_type": "execute_result"
    }
   ],
   "source": [
    "vectorizer = CountVectorizer(max_features=10000)\n",
    "X = vectorizer.fit_transform(data).toarray()\n",
    "scaler = StandardScaler()\n",
    "X = scaler.fit_transform(X)\n",
    "X.shape"
   ]
  },
  {
   "cell_type": "code",
   "execution_count": 18,
   "metadata": {},
   "outputs": [
    {
     "name": "stdout",
     "output_type": "stream",
     "text": [
      "CPU times: user 16min 10s, sys: 3.2 s, total: 16min 13s\n",
      "Wall time: 16min 21s\n"
     ]
    },
    {
     "data": {
      "text/plain": [
       "0.05801911842804036"
      ]
     },
     "execution_count": 18,
     "metadata": {},
     "output_type": "execute_result"
    }
   ],
   "source": [
    "my_clf = MyKNeighborsClassifier(n_neighbors=15, algorithm='brute', metric = 'cosine')\n",
    "my_clf.fit(X, target)\n",
    "%time y_pred = my_clf.predict(X_test)\n",
    "accuracy_score(y_pred, target1)"
   ]
  },
  {
   "cell_type": "code",
   "execution_count": null,
   "metadata": {},
   "outputs": [],
   "source": []
  }
 ],
 "metadata": {
  "colab": {
   "name": "hwfetch_mldata,1.ipynb",
   "provenance": []
  },
  "kernelspec": {
   "display_name": "Python 3",
   "language": "python",
   "name": "python3"
  },
  "language_info": {
   "codemirror_mode": {
    "name": "ipython",
    "version": 3
   },
   "file_extension": ".py",
   "mimetype": "text/x-python",
   "name": "python",
   "nbconvert_exporter": "python",
   "pygments_lexer": "ipython3",
   "version": "3.9.2"
  }
 },
 "nbformat": 4,
 "nbformat_minor": 1
}
