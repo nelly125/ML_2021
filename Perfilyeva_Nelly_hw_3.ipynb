{
 "cells": [
  {
   "cell_type": "markdown",
   "metadata": {},
   "source": [
    "### Алгоритмы интеллектуальной обработки больших объемов данных\n",
    "## Домашнее задание №3 - Дерево решений\n"
   ]
  },
  {
   "cell_type": "markdown",
   "metadata": {},
   "source": [
    "**Общая информация**\n",
    "\n",
    "**Срок сдачи:** 3 мая 2021, 08:30   \n",
    "**Штраф за опоздание:** -2 балла после 08:30 03 мая, -4 балла после 08:30 10 мая, -6 баллов после 08:30 17 мая, -8 баллов после 08:30 24 мая.\n",
    "\n",
    "При отправлении ДЗ указывайте фамилию в названии файла Присылать ДЗ необходимо в виде ссылки на свой github репозиторий на почту ml1.sphere@mail.ru с указанием темы в следующем формате:\n",
    "[ML0221, Задание 3] Фамилия Имя. \n",
    "\n",
    "\n",
    "Используйте данный Ipython Notebook при оформлении домашнего задания."
   ]
  },
  {
   "cell_type": "markdown",
   "metadata": {},
   "source": [
    "##  Реализуем дерево решений (3 балла)"
   ]
  },
  {
   "cell_type": "markdown",
   "metadata": {},
   "source": [
    "Допишите недостающие части дерева решений. Ваша реализация дерева должна работать по точности не хуже DecisionTreeClassifier из sklearn.\n",
    "Внимание: если Вас не устраивает предложенная структура хранения дерева, Вы без потери баллов можете сделать свой класс DecisionTreeClassifier, в котором сами полностью воспроизведете алгоритм дерева решений. Обязательно в нем иметь только функции fit, predict"
   ]
  },
  {
   "cell_type": "code",
   "execution_count": 1,
   "metadata": {},
   "outputs": [],
   "source": [
    "import matplotlib.pyplot as plt\n",
    "import numpy as np\n",
    "import pandas as pd\n",
    "\n",
    "from sklearn.datasets import load_wine\n",
    "from sklearn.ensemble import RandomForestClassifier\n",
    "from sklearn.metrics import accuracy_score\n",
    "from sklearn.model_selection import KFold, train_test_split, GridSearchCV, RandomizedSearchCV\n",
    "from sklearn.tree import DecisionTreeClassifier\n",
    "from sklearn.metrics import roc_auc_score, f1_score\n",
    "\n",
    "import warnings\n",
    "warnings.filterwarnings(\"ignore\", category=RuntimeWarning) \n",
    "\n",
    "from collections import defaultdict\n",
    "from operator import itemgetter"
   ]
  },
  {
   "cell_type": "code",
   "execution_count": 124,
   "metadata": {},
   "outputs": [],
   "source": [
    "class MyDecisionTreeClassifier:\n",
    "    NON_LEAF_TYPE = 0\n",
    "    LEAF_TYPE = 1\n",
    "\n",
    "    def __init__(self, min_samples_split=2, max_depth=5, criterion='gini'):\n",
    "        \"\"\"\n",
    "        criterion -- критерий расщепления. необходимо релизовать три:\n",
    "        Ошибка классификации, Индекс Джини, Энтропийный критерий\n",
    "        max_depth -- максимальная глубина дерева\n",
    "        min_samples_split -- минимальное число объектов в листе, чтобы сделать новый сплит\n",
    "        \"\"\"\n",
    "        self.min_samples_split = min_samples_split\n",
    "        self.max_depth = max_depth\n",
    "        self.num_class = -1\n",
    "        # Для последнего задания\n",
    "        self.feature_importances_ = dict()\n",
    "        self.criterion = criterion\n",
    "        '''Структура, которая описывает дерево\n",
    "        Представляет словарь, где для  node_id (айдишник узла дерева) храним\n",
    "        (тип_узла, айдишник признака сплита, порог сплита) если тип NON_LEAF_TYPE\n",
    "        (тип_узла, предсказание класса, вероятность класса) если тип LEAF_TYPE\n",
    "        Подразумевается, что у каждого node_id в дереве слева \n",
    "        узел с айди 2 * node_id + 1, а справа 2 * node_id + 2'''\n",
    "        self.tree = dict()\n",
    "        if criterion == \"gini\":\n",
    "            self.quality_func = self.gini_impurity\n",
    "        elif criterion == \"classify\":\n",
    "            self.quality_func = self.classify_impurity\n",
    "        elif criterion == \"entropy\":\n",
    "            self.quality_func = self.entropy_impurity\n",
    "\n",
    "    def __div_samples(self, x, y, feature_id, threshold):\n",
    "        \"\"\"\n",
    "        Разделяет объекты на 2 множества\n",
    "        x -- матрица объектов\n",
    "        y -- вектор ответов\n",
    "        feature_id -- айдишник признака, по которому делаем сплит\n",
    "        threshold -- порог, по которому делаем сплит\n",
    "        \"\"\"\n",
    "        left_mask = x[:, feature_id] > threshold\n",
    "        right_mask = ~left_mask\n",
    "        return x[left_mask], x[right_mask], y[left_mask], y[right_mask]\n",
    "    \n",
    "    \n",
    "    def classify_impurity(self, y, count):\n",
    "        p = y / count[:, np.newaxis]\n",
    "        p[np.isnan(p)] = 0\n",
    "        return 1 - np.max(p, axis=1)\n",
    "\n",
    "    def gini_impurity(self, y, count):\n",
    "#         print(count[:, np.newaxis])\n",
    "        p = y / count[:, np.newaxis]\n",
    "#         print(p)\n",
    "        p[np.isnan(p)] = 0\n",
    "        return 1 - np.sum(p**2, axis=1)\n",
    "\n",
    "    def entropy_impurity(self, y, count):\n",
    "        p = y / count[:, np.newaxis]\n",
    "        p[np.isnan(p)] = 0\n",
    "        log_p = p\n",
    "        log_p[np.abs(p) < 1e-7] = 1\n",
    "        log_p = np.log2(p)\n",
    "        prob_sum = p * log_p\n",
    "        return (-1) * np.sum(prob_sum, axis=1)\n",
    "        \n",
    "\n",
    "    def __find_threshold(self, x, y):\n",
    "        \"\"\"\n",
    "        Находим оптимальный признак и порог для сплита\n",
    "        Здесь используемые разные impurity в зависимости от self.criterion\n",
    "        \"\"\"\n",
    "        index = np.argsort(x)\n",
    "        sorted_x = x[index]\n",
    "        sorted_y = y[index]\n",
    "        thresholds, split = np.unique(sorted_x, return_index=True)\n",
    "        y_l = np.zeros((split.shape[0], self.num_class))\n",
    "        y_r = np.zeros((split.shape[0], self.num_class))\n",
    "        for i in range(y_l.shape[0]):\n",
    "            y_l[i] = np.bincount(sorted_y[:split[i]], minlength=self.num_class)\n",
    "            y_r[i] = np.bincount(sorted_y[split[i]:], minlength=self.num_class)\n",
    "        count_l = np.sum(y_l, axis=1)\n",
    "        count_r = np.sum(y_r, axis=1)\n",
    "        sorted_y = y_l + y_r\n",
    "        count = count_l + count_r\n",
    "        features = self.quality_func(sorted_y, count) -(count_l * self.quality_func(y_l, count_l)\n",
    "                        + count_r * self.quality_func(y_r, count_r)) / count\n",
    "        if(np.isnan(features).all()):\n",
    "            features =  np.array([0])\n",
    "        features = features[~np.isnan(features)]\n",
    "        max_idx = np.argmax(features)\n",
    "#         print(thresholds[max_idx])\n",
    "        return features[max_idx], thresholds[max_idx]\n",
    "        \n",
    "  \n",
    "    def __fit_node(self, x, y, node_id, depth):\n",
    "        \"\"\"\n",
    "        Делаем новый узел в дереве\n",
    "        Решаем, терминальный он или нет\n",
    "        Если нет, то строим левый узел  с айди 2 * node_id + 1\n",
    "        И правый узел с  айди 2 * node_id + 2\n",
    "        \"\"\"\n",
    "        #какие уникальные значения в текущ узле\n",
    "        values, counts = np.unique(y, return_counts=True)\n",
    "        #ограничения на дерево по число признаков или по глубине\n",
    "        if (depth >= self.max_depth) or (y.size < self.min_samples_split\n",
    "                                         or values.shape[0] < 2):\n",
    "            p = counts / y.size\n",
    "            index = p.argmax()\n",
    "            self.tree[node_id] = (self.LEAF_TYPE, values[index], p[index])\n",
    "            return\n",
    "        #пороги\n",
    "#         best_feature, best_tr = self.__find_threshold(x, y)\n",
    "        thresholds = np.array([self.__find_threshold(i, y) for i in x.T]) \n",
    "        feature_id = np.argmax(thresholds[:, 0])\n",
    "        threshold = thresholds[feature_id, 1]\n",
    "        #дочерние узлы\n",
    "        x_l, x_r, y_l, y_r = self.__div_samples(x, y, feature_id, threshold)\n",
    "        #терминальный\n",
    "        if x_l.size == 0 or x_r.size == 0:\n",
    "            p = counts / y.size\n",
    "            index = p.argmax()\n",
    "            self.tree[node_id] = (self.LEAF_TYPE, values[index], p[index])\n",
    "            return\n",
    "        #важность признака\n",
    "        if feature_id not in self.feature_importances_:\n",
    "            self.feature_importances_[feature_id] = 0\n",
    "        self.feature_importances_[feature_id] += thresholds[feature_id, 0]\n",
    "        self.tree[node_id] = (self.NON_LEAF_TYPE, feature_id, threshold)\n",
    "        self.__fit_node(x_l, y_l, 2 * node_id + 1, depth + 1)\n",
    "        self.__fit_node(x_r, y_r, 2 * node_id + 2, depth + 1)\n",
    "    \n",
    "    def fit(self, x, y):\n",
    "        \"\"\"\n",
    "        Рекурсивно строим дерево решений\n",
    "        Начинаем с корня node_id 0\n",
    "        \"\"\"\n",
    "        if (self.feature_importances_ is not None):\n",
    "            self.feature_importances_ = np.zeros(x.shape[1], dtype=np.float)\n",
    "        self.num_class = np.unique(y).size\n",
    "        self.__fit_node(x, y, 0, 0) \n",
    "\n",
    "    def __predict_class(self, x, node_id):\n",
    "        \"\"\"\n",
    "        Рекурсивно обходим дерево по всем узлам,\n",
    "        пока не дойдем до терминального\n",
    "        \"\"\"\n",
    "        node = self.tree[node_id]\n",
    "        if node[0] == self.__class__.NON_LEAF_TYPE:\n",
    "            _, feature_id, threshold = node\n",
    "            if x[feature_id] > threshold:\n",
    "                return self.__predict_class(x, 2 * node_id + 1)\n",
    "            else:\n",
    "                return self.__predict_class(x, 2 * node_id + 2)\n",
    "        else:\n",
    "            return node\n",
    "\n",
    "    def predict(self, X):\n",
    "        \"\"\"\n",
    "        Вызывает predict для всех объектов из матрицы X\n",
    "        \"\"\"\n",
    "        return np.array([self.__predict_class(x, 0)[1] for x in X])\n",
    "\n",
    "    def predict_proba(self, X):\n",
    "        \"\"\"\n",
    "        Вызывает predict для всех объектов из матрицы X\n",
    "        \"\"\"\n",
    "        return np.array([self.__predict_class(x, 0)[2] for x in X])\n",
    "\n",
    "    def fit_predict(self, x_train, y_train, predicted_x):\n",
    "        self.fit(x_train, y_train)\n",
    "        return self.predict(predicted_x)\n",
    "\n",
    "    def get_feature_importance(self):\n",
    "        \"\"\"\n",
    "        Возвращает важность признаков\n",
    "        \"\"\"\n",
    "        return self.feature_importances_"
   ]
  },
  {
   "cell_type": "code",
   "execution_count": 144,
   "metadata": {},
   "outputs": [],
   "source": [
    "my_clf = MyDecisionT reeClassifier(min_samples_split=2, criterion=\"gini\")\n",
    "clf = DecisionTreeClassifier(min_samples_split=2, criterion=\"gini\")"
   ]
  },
  {
   "cell_type": "code",
   "execution_count": 145,
   "metadata": {},
   "outputs": [],
   "source": [
    "wine = load_wine()\n",
    "X_train, X_test, y_train, y_test = train_test_split(wine.data, wine.target, test_size=0.1, stratify=wine.target)"
   ]
  },
  {
   "cell_type": "code",
   "execution_count": 146,
   "metadata": {},
   "outputs": [
    {
     "name": "stdout",
     "output_type": "stream",
     "text": [
      "(18, 13)\n"
     ]
    }
   ],
   "source": [
    "print(X_test.shape)"
   ]
  },
  {
   "cell_type": "code",
   "execution_count": 147,
   "metadata": {},
   "outputs": [
    {
     "name": "stdout",
     "output_type": "stream",
     "text": [
      "(18,)\n"
     ]
    }
   ],
   "source": [
    "print(y_test.shape)"
   ]
  },
  {
   "cell_type": "code",
   "execution_count": 148,
   "metadata": {},
   "outputs": [],
   "source": [
    "clf.fit(X_train, y_train)\n",
    "my_clf.fit(X_train, y_train)"
   ]
  },
  {
   "cell_type": "code",
   "execution_count": 149,
   "metadata": {},
   "outputs": [
    {
     "name": "stdout",
     "output_type": "stream",
     "text": [
      "0.8888888888888888\n",
      "0.9444444444444444\n"
     ]
    }
   ],
   "source": [
    "print(accuracy_score(y_pred=clf.predict(X_test), y_true=y_test))\n",
    "print(accuracy_score(y_pred=my_clf.predict(X_test), y_true=y_test))"
   ]
  },
  {
   "cell_type": "markdown",
   "metadata": {},
   "source": [
    "## Ускоряем дерево решений (2 балла)\n",
    "Добиться скорости работы на fit не медленнее чем в 10 раз sklearn на данных wine. \n",
    "Для этого используем numpy."
   ]
  },
  {
   "cell_type": "code",
   "execution_count": 12,
   "metadata": {
    "scrolled": true
   },
   "outputs": [
    {
     "name": "stdout",
     "output_type": "stream",
     "text": [
      "CPU times: user 2.58 ms, sys: 1.93 ms, total: 4.51 ms\n",
      "Wall time: 9 ms\n"
     ]
    },
    {
     "data": {
      "text/plain": [
       "DecisionTreeClassifier()"
      ]
     },
     "execution_count": 12,
     "metadata": {},
     "output_type": "execute_result"
    }
   ],
   "source": [
    "%time clf.fit(X_train, y_train)"
   ]
  },
  {
   "cell_type": "code",
   "execution_count": 11,
   "metadata": {},
   "outputs": [
    {
     "name": "stdout",
     "output_type": "stream",
     "text": [
      "CPU times: user 63.4 ms, sys: 4.44 ms, total: 67.8 ms\n",
      "Wall time: 66.5 ms\n"
     ]
    }
   ],
   "source": [
    "%time my_clf.fit(X_train, y_train)"
   ]
  },
  {
   "cell_type": "markdown",
   "metadata": {},
   "source": [
    "## Боевое применение (3 балла)\n",
    "\n",
    "На практике Вы познакомились с датасетом Speed Dating Data. В нем каждая пара в быстрых свиданиях характеризуется определенным набором признаков. Задача -- предсказать, произойдет ли матч пары (колонка match). \n",
    "\n",
    "Пример работы с датасетом можете найти в практике пункт 2\n",
    "https://github.com/VVVikulin/ml1.sphere/blob/master/2019-09/lecture_06/pract-trees.ipynb\n",
    "\n",
    "Данные и описания колонок лежат тут\n",
    "https://cloud.mail.ru/public/8nHV/p6J7wY1y1/speed-dating-experiment/"
   ]
  },
  {
   "cell_type": "markdown",
   "metadata": {},
   "source": [
    "Скачайте датасет, обработайте данные, как показано на семинаре или своим собственным способом. Обучите дерево классифкации. В качестве таргета возьмите колонку 'match'. Постарайтесь хорошо обработать признаки, чтобы выбить максимальную точность. Если точность будет близка к случайному гаданию, задание не будет защитано. \n"
   ]
  },
  {
   "cell_type": "markdown",
   "metadata": {},
   "source": [
    "Разбейте датасет на трейн и валидацию. Подберите на валидации оптимальный критерий  информативности. \n",
    "Постройте графики зависимости точности на валидации от глубины дерева, от минимального числа объектов для сплита. \n",
    "Какой максимальной точности удалось достигнуть?"
   ]
  },
  {
   "cell_type": "code",
   "execution_count": 183,
   "metadata": {},
   "outputs": [],
   "source": [
    "df = df = pd.read_csv('Speed Dating Data.csv', encoding='latin1')\n",
    "\n",
    "droplist = ['id', 'idg', 'condtn', 'round', 'position', 'positin1', 'order', 'partner',\n",
    "            'age_o', 'race_o', 'pf_o_att',\n",
    "            'pf_o_sin', 'pf_o_int',\n",
    "            'pf_o_fun', 'pf_o_amb', 'pf_o_sha',\n",
    "            'dec_o', 'attr_o', 'sinc_o', 'intel_o', 'fun_o',\n",
    "            'amb_o', 'shar_o', 'like_o', 'prob_o', 'met_o',\n",
    "            'field', 'undergra', 'from', 'zipcode', 'career',\n",
    "            'sports', 'tvsports', 'exercise',\n",
    "            'dining', 'museums', 'art', 'hiking',\n",
    "            'gaming', 'clubbing', 'reading', 'tv',\n",
    "            'theater', 'movies', 'concerts',\n",
    "            'music', 'shopping', 'yoga']\n",
    "\n",
    "df = df.iloc[:, :97]\n",
    "\n",
    "df = df.drop(droplist, axis=1)\n",
    "\n",
    "df.dropna(subset=['age', 'imprelig', 'imprace', 'date'])\n",
    "\n",
    "pd.get_dummies(df, columns=['field_cd'], prefix='field_cd', prefix_sep='=')\n",
    "\n",
    "df.loc[:, 'mn_sat'] = df.loc[:, 'mn_sat'].str.replace(',', '').astype(np.float)\n",
    "df.loc[:, 'tuition'] = df.loc[:, 'tuition'].str.replace(',', '').astype(np.float)\n",
    "df.loc[:, 'income'] = df.loc[:, 'income'].str.replace(',', '').astype(np.float)\n",
    "\n",
    "\n",
    "buf = ['field_cd', 'mn_sat', 'tuition', 'income', 'career_c']\n",
    "df.loc[:, buf] = df.loc[:, buf].fillna(0)\n",
    "\n",
    "\n",
    "df.drop_duplicates('iid').exphappy.isnull().sum()\n",
    "df.drop_duplicates('iid').expnum.isnull().sum()\n",
    "df = df.drop(['expnum'], axis=1)\n",
    "\n",
    "\n",
    "\n",
    "df.loc[:, 'temp_totalsum'] = df.loc[:, ['attr1_1', 'sinc1_1', 'intel1_1',\n",
    "                                        'fun1_1', 'amb1_1', 'shar1_1']].sum(axis=1)\n",
    "\n",
    "df.loc[:, ['attr1_1', 'sinc1_1',\n",
    "           'intel1_1', 'fun1_1',\n",
    "           'amb1_1', 'shar1_1']] = \\\n",
    "    (df.loc[:, ['attr1_1', 'sinc1_1',\n",
    "                'intel1_1', 'fun1_1',\n",
    "                'amb1_1', 'shar1_1']].T / df.loc[:, 'temp_totalsum'].T).T * 100\n",
    "\n",
    "df.loc[:, 'temp_totalsum'] = df.loc[:, ['attr2_1', 'sinc2_1',\n",
    "                                        'intel2_1', 'fun2_1',\n",
    "                                        'amb2_1', 'shar2_1']].sum(axis=1)\n",
    "\n",
    "df.loc[:, ['attr2_1', 'sinc2_1',\n",
    "           'intel2_1', 'fun2_1',\n",
    "           'amb2_1', 'shar2_1']] = \\\n",
    "    (df.loc[:, ['attr2_1', 'sinc2_1', 'intel2_1', 'fun2_1',\n",
    "                'amb2_1', 'shar2_1']].T / df.loc[:, 'temp_totalsum'].T).T * 100\n",
    "\n",
    "df = df.drop(['temp_totalsum'], axis=1)\n",
    "\n",
    "\n",
    "for i in [4, 5]:\n",
    "    feat = ['attr{}_1'.format(i), 'sinc{}_1'.format(i),\n",
    "            'intel{}_1'.format(i), 'fun{}_1'.format(i),\n",
    "            'amb{}_1'.format(i), 'shar{}_1'.format(i)]\n",
    "\n",
    "    if i != 4:\n",
    "        feat.remove('shar{}_1'.format(i))\n",
    "\n",
    "    df = df.drop(feat, axis=1)\n",
    "\n",
    "df = df.drop(['wave'], axis=1)\n",
    "\n",
    "df_male = df.query('gender == 1').drop_duplicates(subset=['iid', 'pid']) \\\n",
    "    .drop(['gender'], axis=1).dropna()\n",
    "df_female = df.query('gender == 0').drop_duplicates(subset=['iid']) \\\n",
    "    .drop(['gender', 'match', 'int_corr', 'samerace'], axis=1).dropna()\n",
    "\n",
    "df_female.columns = df_female.columns + '_f'\n",
    "df_female = df_female.drop(['pid_f'], axis=1)\n",
    "df_pair = df_male.join(df_female.set_index('iid_f'), on='pid', how='inner')\n",
    "df_pair = df_pair.drop(['iid', 'pid'], axis=1)\n",
    "\n",
    "X = df_pair.iloc[:, 1:].values\n",
    "y = df_pair.iloc[:, 0].values\n",
    "X_train, X_test, y_train, y_test = train_test_split(X, y, test_size=0.1)\n",
    "\n",
    "df_pair_res = df_pair.drop(['match'], axis=1)\n"
   ]
  },
  {
   "cell_type": "code",
   "execution_count": 95,
   "metadata": {},
   "outputs": [],
   "source": [
    "X_train, X_test, y_train, y_test = train_test_split(X, y, test_size = 0.1)"
   ]
  },
  {
   "cell_type": "code",
   "execution_count": 22,
   "metadata": {},
   "outputs": [
    {
     "name": "stdout",
     "output_type": "stream",
     "text": [
      "[0.8377314170916396, 0.8346750888579818, 0.8324532529748108]\n"
     ]
    }
   ],
   "source": [
    "kf = KFold(n_splits=5)\n",
    "criterions = ['entropy','gini','classify']\n",
    "criterion_scores_roc = []\n",
    "criterion_scores_accur = []\n",
    "for cr in criterions:\n",
    "    scores_roc = []\n",
    "    scores_acc = []\n",
    "    for train_ind, test_ind in kf.split(X_train):\n",
    "        X_train_cv = X_train[train_ind]\n",
    "        y_train_cv = y_train[train_ind]\n",
    "        X_test_cv = X_train[test_ind]\n",
    "        y_test_cv = y_train[test_ind]\n",
    "        my_clf = MyDecisionTreeClassifier(min_samples_split=2, criterion=cr)\n",
    "        my_clf.fit(X_train_cv, y_train_cv)\n",
    "        y_pred_cv = my_clf.predict_proba(X_test_cv)\n",
    "        scores_roc.append(roc_auc_score(y_test_cv, y_pred_cv))\n",
    "        y_pred_cv = my_clf.predict(X_test_cv)\n",
    "        scores_acc.append(accuracy_score(y_test_cv, y_pred_cv))\n",
    "    criterion_scores_roc.append(np.mean(scores_roc))\n",
    "    criterion_scores_accur.append(np.mean(scores_acc))\n",
    "\n",
    "\n",
    "print(criterion_scores_accur)  #accuracy      "
   ]
  },
  {
   "cell_type": "code",
   "execution_count": 23,
   "metadata": {},
   "outputs": [
    {
     "name": "stdout",
     "output_type": "stream",
     "text": [
      "[0.8380091948694174, 0.8380091948694174, 0.8380091948694174, 0.8382869726471952, 0.8346750888579818, 0.8352294853963839, 0.8343965384021017, 0.8341183742852728, 0.8335628187297172, 0.8338405965074951, 0.8330072631741616, 0.8327290990573328, 0.8321727708236748, 0.8321727708236748]\n"
     ]
    }
   ],
   "source": [
    "kf = KFold(n_splits=5)\n",
    "depths = range(1, 15)\n",
    "criterion_scores_roc = []\n",
    "criterion_scores_accur = []\n",
    "for depth in depths:\n",
    "    scores_roc = []\n",
    "    scores_acc = []\n",
    "    for train_ind, test_ind in kf.split(X_train):\n",
    "        X_train_cv = X_train[train_ind]\n",
    "        y_train_cv = y_train[train_ind]\n",
    "        X_test_cv = X_train[test_ind]\n",
    "        y_test_cv = y_train[test_ind]\n",
    "        my_clf = MyDecisionTreeClassifier(min_samples_split=2, criterion='gini',\n",
    "                                         max_depth = depth)\n",
    "        my_clf.fit(X_train_cv, y_train_cv)\n",
    "        y_pred_cv = my_clf.predict_proba(X_test_cv)\n",
    "        scores_roc.append(roc_auc_score(y_test_cv, y_pred_cv))\n",
    "        y_pred_cv = my_clf.predict(X_test_cv)\n",
    "        scores_acc.append(accuracy_score(y_test_cv, y_pred_cv))\n",
    "\n",
    "    criterion_scores_roc.append(np.mean(scores_roc))\n",
    "    criterion_scores_accur.append(np.mean(scores_acc))\n",
    "\n",
    "# print(criterion_scores_roc) #ROC-AUC     \n",
    "print(criterion_scores_accur)  #accuracy      "
   ]
  },
  {
   "cell_type": "code",
   "execution_count": 24,
   "metadata": {},
   "outputs": [
    {
     "data": {
      "text/plain": [
       "Text(0, 0.5, 'accuracy')"
      ]
     },
     "execution_count": 24,
     "metadata": {},
     "output_type": "execute_result"
    },
    {
     "data": {
      "image/png": "[encoded data removed]",
      "text/plain": [
       "<Figure size 432x288 with 1 Axes>"
      ]
     },
     "metadata": {
      "needs_background": "light"
     },
     "output_type": "display_data"
    }
   ],
   "source": [
    "fig = plt.figure()\n",
    "\n",
    "plt.plot(depths, criterion_scores_accur, 'r-.')\n",
    "plt.xlabel('depth')\n",
    "plt.ylabel('accuracy')"
   ]
  },
  {
   "cell_type": "code",
   "execution_count": 25,
   "metadata": {},
   "outputs": [
    {
     "data": {
      "text/plain": [
       "4"
      ]
     },
     "execution_count": 25,
     "metadata": {},
     "output_type": "execute_result"
    }
   ],
   "source": [
    "np.argmax(criterion_scores_accur)\n",
    "depth = depths[np.argmax(criterion_scores_accur)]\n",
    "depth"
   ]
  },
  {
   "cell_type": "code",
   "execution_count": 42,
   "metadata": {},
   "outputs": [
    {
     "name": "stdout",
     "output_type": "stream",
     "text": [
      "[0.8346696801112656, 0.8346696801112656, 0.8346696801112656, 0.8346696801112656, 0.8346696801112656, 0.8346696801112656, 0.835503013444599, 0.835503013444599, 0.835503013444599]\n"
     ]
    }
   ],
   "source": [
    "kf = KFold(n_splits=5)\n",
    "samples = range(1, 10)\n",
    "criterion_scores_roc = []\n",
    "criterion_scores_accur = []\n",
    "for sample in samples:\n",
    "    scores_roc = []\n",
    "    scores_acc = []\n",
    "    for train_ind, test_ind in kf.split(X_train):\n",
    "        X_train_cv = X_train[train_ind]\n",
    "        y_train_cv = y_train[train_ind]\n",
    "        X_test_cv = X_train[test_ind]\n",
    "        y_test_cv = y_train[test_ind]\n",
    "        my_clf = MyDecisionTreeClassifier(min_samples_split=sample, criterion='gini',\n",
    "                                         max_depth = depth)\n",
    "        my_clf.fit(X_train_cv, y_train_cv)\n",
    "        y_pred_cv = my_clf.predict_proba(X_test_cv)\n",
    "        scores_roc.append(roc_auc_score(y_test_cv, y_pred_cv))\n",
    "        y_pred_cv = my_clf.predict(X_test_cv)\n",
    "        scores_acc.append(accuracy_score(y_test_cv, y_pred_cv))\n",
    "\n",
    "    criterion_scores_roc.append(np.mean(scores_roc))\n",
    "    criterion_scores_accur.append(np.mean(scores_acc))\n",
    "\n",
    "# print(criterion_scores_roc) #ROC-AUC     \n",
    "print(criterion_scores_accur)  #accuracy  "
   ]
  },
  {
   "cell_type": "code",
   "execution_count": 107,
   "metadata": {},
   "outputs": [
    {
     "data": {
      "text/plain": [
       "Text(0, 0.5, 'accuracy')"
      ]
     },
     "execution_count": 107,
     "metadata": {},
     "output_type": "execute_result"
    },
    {
     "data": {
      "image/png": "[encoded data removed]",
      "text/plain": [
       "<Figure size 432x288 with 1 Axes>"
      ]
     },
     "metadata": {
      "needs_background": "light"
     },
     "output_type": "display_data"
    }
   ],
   "source": [
    "fig = plt.figure()\n",
    "\n",
    "plt.plot(samples, criterion_scores_roc, 'r-.')\n",
    "plt.xlabel('samples')\n",
    "plt.ylabel('accuracy')"
   ]
  },
  {
   "cell_type": "code",
   "execution_count": 457,
   "metadata": {},
   "outputs": [
    {
     "data": {
      "text/plain": [
       "9"
      ]
     },
     "execution_count": 457,
     "metadata": {},
     "output_type": "execute_result"
    }
   ],
   "source": [
    "np.argmax(criterion_scores_accur)\n",
    "sample = depths[np.argmax(criterion_scores_accur)]\n",
    "sample"
   ]
  },
  {
   "cell_type": "code",
   "execution_count": 153,
   "metadata": {},
   "outputs": [],
   "source": [
    "my_clf = MyDecisionTreeClassifier(criterion = 'gini', min_samples_split = sample,\n",
    "                                  max_depth = depth)                            \n",
    "my_clf.fit(X_train, y_train)"
   ]
  },
  {
   "cell_type": "code",
   "execution_count": 154,
   "metadata": {},
   "outputs": [
    {
     "name": "stdout",
     "output_type": "stream",
     "text": [
      "0.8725\n"
     ]
    }
   ],
   "source": [
    "print(accuracy_score(y_pred=my_clf.predict(X_test), y_true=y_test))"
   ]
  },
  {
   "cell_type": "markdown",
   "metadata": {},
   "source": [
    "## Находим самые важные признаки (2 балла)\n",
    "\n"
   ]
  },
  {
   "cell_type": "markdown",
   "metadata": {},
   "source": [
    "По построенному дереву  легко понять, какие признаки лучше всего помогли решить задачу. Часто это бывает нужно  не только  для сокращения размерности в данных, но и для лучшего понимания прикладной задачи. Например, Вы хотите понять, какие признаки стоит еще конструировать -- для этого нужно понимать, какие из текущих лучше всего работают в дереве. "
   ]
  },
  {
   "cell_type": "markdown",
   "metadata": {},
   "source": [
    "Самый простой метод -- посчитать число сплитов, где использовался данные признак. Это не лучший вариант, так как по признаку который принимает всего 2 значения, но который почти точно разделяет выборку, число сплитов будет очень 1, но при этом признак сам очень хороший. \n",
    "В этом задании предлагается для каждого признака считать суммарный gain (в лекции обозначено как Q) при использовании этого признака в сплите. Тогда даже у очень хороших признаков с маленьким число сплитов это значение должно быть довольно высоким.  "
   ]
  },
  {
   "cell_type": "markdown",
   "metadata": {},
   "source": [
    "Реализовать это довольно просто: создаете словарь номер фичи : суммарный гейн и добавляете в нужную фичу каждый раз, когда используете ее при построении дерева. "
   ]
  },
  {
   "cell_type": "markdown",
   "metadata": {},
   "source": [
    "Добавьте функционал, который определяет значения feature importance. Обучите дерево на датасете Speed Dating Data.\n",
    "Выведите 10 главных фичей по важности."
   ]
  },
  {
   "cell_type": "code",
   "execution_count": 178,
   "metadata": {},
   "outputs": [],
   "source": [
    "my_clf = MyDecisionTreeClassifier(criterion = 'gini', min_samples_split = sample,\n",
    "                                  max_depth = depth)                            \n",
    "my_clf.fit(X_train, y_train)"
   ]
  },
  {
   "cell_type": "code",
   "execution_count": 185,
   "metadata": {},
   "outputs": [
    {
     "data": {
      "text/plain": [
       "[('shar2_1_f', 0.19592592592592595),\n",
       " ('shar2_1', 0.09643279390933068),\n",
       " ('amb1_1_f', 0.07263989125861675),\n",
       " ('tuition_f', 0.04005221920033755),\n",
       " ('attr1_1_f', 0.037003041774957),\n",
       " ('imprelig_f', 0.029987824007182473),\n",
       " ('attr3_1', 0.0051993150965780055),\n",
       " ('fun1_1', 0.004370951154811287),\n",
       " ('fun1_1_f', 0.0023626549963979837),\n",
       " ('intel2_1_f', 0.0018774058317629905)]"
      ]
     },
     "execution_count": 185,
     "metadata": {},
     "output_type": "execute_result"
    }
   ],
   "source": [
    "result = dict()\n",
    "\n",
    "for i, a in enumerate(features):\n",
    "    result[df_pair_res.columns[i]] = a\n",
    "(sorted(result.items(), key=itemgetter(1), reverse=True)[0:10])"
   ]
  },
  {
   "cell_type": "markdown",
   "metadata": {},
   "source": [
    "## Фидбек (бесценно)"
   ]
  },
  {
   "cell_type": "markdown",
   "metadata": {},
   "source": [
    "* Какие аспекты обучения деревьев решений Вам показались непонятными? Какое место стоит дополнительно объяснить?"
   ]
  },
  {
   "cell_type": "markdown",
   "metadata": {},
   "source": [
    "### Ваш ответ здесь"
   ]
  },
  {
   "cell_type": "markdown",
   "metadata": {},
   "source": [
    "* Здесь Вы можете оставить отзыв о этой домашней работе или о всем курсе."
   ]
  },
  {
   "cell_type": "markdown",
   "metadata": {},
   "source": [
    "### ВАШ ОТЗЫВ ЗДЕСЬ\n",
    "\n"
   ]
  },
  {
   "cell_type": "code",
   "execution_count": null,
   "metadata": {},
   "outputs": [],
   "source": []
  }
 ],
 "metadata": {
  "anaconda-cloud": {},
  "kernelspec": {
   "display_name": "Python 3",
   "language": "python",
   "name": "python3"
  },
  "language_info": {
   "codemirror_mode": {
    "name": "ipython",
    "version": 3
   },
   "file_extension": ".py",
   "mimetype": "text/x-python",
   "name": "python",
   "nbconvert_exporter": "python",
   "pygments_lexer": "ipython3",
   "version": "3.8.5"
  }
 },
 "nbformat": 4,
 "nbformat_minor": 2
}
