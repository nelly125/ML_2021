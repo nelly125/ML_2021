{
 "cells": [
  {
   "cell_type": "markdown",
   "metadata": {},
   "source": [
    "### Алгоритмы интеллектуальной обработки больших объемов данных\n",
    "## Домашнее задание №4 - Градиентный бустинг\n"
   ]
  },
  {
   "cell_type": "markdown",
   "metadata": {},
   "source": [
    "**Общая информация**\n",
    "\n",
    "**Срок сдачи:** 10 мая 2021, 08:30   \n",
    "**Штраф за опоздание:** -2 балла после 08:30 10 мая, -4 балла после 08:30 17 мая, -6 баллов после 08:30 24 мая, -8 баллов после 08:30 31 мая.\n",
    "\n",
    "При отправлении ДЗ указывайте фамилию в названии файла Присылать ДЗ необходимо в виде ссылки на свой github репозиторий на почту ml1.sphere@mail.ru с указанием темы в следующем формате:\n",
    "[ML0221, Задание 4] Фамилия Имя. \n",
    "\n",
    "\n",
    "Используйте данный Ipython Notebook при оформлении домашнего задания."
   ]
  },
  {
   "cell_type": "markdown",
   "metadata": {},
   "source": [
    "##  Считаем производные для функций потерь (1 балл)"
   ]
  },
  {
   "cell_type": "markdown",
   "metadata": {},
   "source": [
    "Мы будем реализовать градиентный бустинг для 3 функций потерь:\n",
    "\n",
    "1) MSE  $L(a(x_i), y_i) = (y_i - a(x_i)) ^ 2$\n",
    "\n",
    "2) Экспоненциальная  $L(a(x_i), y_i) = exp( -a(x_i) y_i), y_i \\in \\{-1, 1\\}$\n",
    "\n",
    "3) Логистическая  $L(a(x_i), y_i) = \\log (1 + exp( -a(x_i) y_i)), y_i \\in \\{-1, 1\\}$\n",
    "\n",
    "где $a(x_i)$ предсказание бустинга на итом объекте. \n",
    "\n",
    "Для каждой функции потерь напишите таргет, на который будет настраиваться каждое дерево в бустинге. "
   ]
  },
  {
   "cell_type": "markdown",
   "metadata": {},
   "source": [
    "Ваше решение тут\n",
    "1) $$-\\frac{dL}{da} = 2(y_i - a(x_i))$$\n",
    "2) $$-\\frac{dL}{da} = y_i \\exp(-a(x_i)y_i)$$\n",
    "3) $$-\\frac{dL}{da} = \\frac{y_i \\exp(-a(x_i)y_i)}{1+ \\exp(-a(x_i)y_i)}$$"
   ]
  },
  {
   "cell_type": "markdown",
   "metadata": {},
   "source": [
    "##  Реализуем градиентный бустинг (3 балла)"
   ]
  },
  {
   "cell_type": "markdown",
   "metadata": {},
   "source": [
    "Реализуйте класс градиентного бустинга для классификации. Ваша реализация бустинга должна работать по точности не более чем на 5 процентов хуже чем GradientBoostingClassifier из sklearn. \n"
   ]
  },
  {
   "cell_type": "markdown",
   "metadata": {},
   "source": [
    "Детали реализации:\n",
    "\n",
    "-- должно поддерживаться 3 функции потерь\n",
    "\n",
    "-- сами базовые алгоритмы(деревья, линейные модели и тп) реализовать не надо, просто возьмите готовые из sklearn\n",
    "\n",
    "-- в качестве функции потерь для построения одного дерева используйте MSE\n",
    "\n",
    "-- шаг в бустинге можно не подбирать, можно брать константный\n",
    "\n",
    "-- можно брать разные модели в качестве инициализации бустинга\n",
    "\n",
    "-- должны поддерживаться следующие параметры:\n",
    "\n",
    "а) число итераций \n",
    "\n",
    "б) размер шага\n",
    "\n",
    "в) процент случайных фичей при построении одного дерева\n",
    "\n",
    "д) процент случайных объектов при построении одного дерева\n",
    "\n",
    "е) параметры базового алгоритма (передавайте через **kwargs)"
   ]
  },
  {
   "cell_type": "code",
   "execution_count": 162,
   "metadata": {},
   "outputs": [],
   "source": [
    "import numpy as np\n",
    "import matplotlib.pyplot as plt\n",
    "\n",
    "\n",
    "from sklearn.datasets import load_wine\n",
    "from sklearn.ensemble import GradientBoostingClassifier\n",
    "from sklearn.metrics import accuracy_score\n",
    "from sklearn.model_selection import train_test_split\n",
    "from sklearn.tree import DecisionTreeRegressor\n",
    "from sklearn.model_selection import KFold\n",
    "\n",
    "\n",
    "import warnings\n",
    "warnings.filterwarnings(\"ignore\", category=RuntimeWarning)\n",
    "\n",
    "from sklearn.linear_model import SGDClassifier\n",
    "from sklearn.svm import SVC\n",
    "from sklearn.linear_model import LogisticRegression\n",
    "\n",
    "\n",
    "from sklearn.ensemble import RandomForestRegressor, RandomForestClassifier"
   ]
  },
  {
   "cell_type": "code",
   "execution_count": 179,
   "metadata": {},
   "outputs": [],
   "source": [
    "class MyGradientBoostingClassifier:\n",
    "\n",
    "    def __init__(self, loss='MSE', learning_rate=0.1, n_estimators=10,\n",
    "                 colsample=1, subsample=1, *args, **kwargs):\n",
    "        \"\"\"\n",
    "        loss -- один из 3 лоссов\n",
    "        learning_rate -- шаг бустинга\n",
    "        n_estimators -- число итераций\n",
    "        colsample -- процент рандомных признаков при обучнеии одного алгоритма\n",
    "        subsample -- процент рандомных объектов при обучнеии одного алгоритма\n",
    "        args, kwargs -- параметры  базовых моделей\n",
    "        \"\"\"\n",
    "        self.loss = loss\n",
    "        self.learning_rate = learning_rate\n",
    "        self.n_estimators = n_estimators\n",
    "        self.colsample = colsample\n",
    "        self.subsample = subsample\n",
    "        self.args = args\n",
    "        self.kwargs = kwargs\n",
    "        self.__grad_func = self.__grad_exp\n",
    "        \n",
    "#         print(loss)\n",
    "        \n",
    "        if self.loss == 'MSE':\n",
    "            self.__grad_func = self.__grad_mse\n",
    "#             print('dfgdfg')\n",
    "        if self.loss == 'exp':\n",
    "            self.__grad_func = self.__grad_exp\n",
    "        if self.loss == 'logloss':\n",
    "            self.__grad_func = self.__grad_logloss \n",
    "#         print(self.__grad_func)\n",
    "    \n",
    "    def __grad_mse(self, y, a):\n",
    "#         print(2 * (y - a))\n",
    "        return 2 * (y - a)\n",
    "    \n",
    "    def __grad_exp(self, y, a):\n",
    "        return y * np.exp(-a * y)\n",
    "    \n",
    "    def __grad_logloss(self, y, a):\n",
    "        return y * np.exp(-a * y) / (1 + np.exp(-a * y))\n",
    "    \n",
    "    def get_indexes(self, X):\n",
    "        X_indexes = np.random.choice(X.shape[0], \n",
    "                                     int(self.X.shape[0] * self.subsample))\n",
    "        y_indexes = np.random.choice(X.shape[1], \n",
    "                                     int(self.X.shape[1] * self.colsample))\n",
    "        return X_indexes, y_indexes\n",
    "    \n",
    "    \n",
    "    def fit(self, X, y, base_model=DecisionTreeRegressor, init_model=None):\n",
    "        \"\"\"\n",
    "        X -- объекты для обучения:\n",
    "        y -- таргеты для обучения\n",
    "        base_model -- класс базовых моделей, например sklearn.tree.DecisionTreeRegressor\n",
    "        init_model -- класс для первой модели, если None то берем константу (только для посл задания)\n",
    "        \"\"\"\n",
    "        self.X = X\n",
    "        self.y = y\n",
    "        self.__base_model = base_model\n",
    "        self.__init_model = init_model\n",
    "        self.classes = np.unique(y)\n",
    "        self.n_class = len(self.classes)\n",
    "        self.models = []\n",
    "        self.features = []\n",
    "        \n",
    "        if init_model is None:\n",
    "            self.init_model = None\n",
    "            self.target_predict=np.float64(np.ones(self.y.shape[0]) / self.y.shape[0])\n",
    "        else:\n",
    "            self.init_model = init_model(*self.args, **self.kwargs)\n",
    "            self.init_model.fit(X, y)\n",
    "            self.target_predict = np.float64(self.init_model.predict(X))\n",
    "        \n",
    "        for i in range(self.n_estimators):\n",
    "            X_indexes, y_indexes = self.get_indexes(X)\n",
    "            X_train = X[X_indexes, :][:, y_indexes]\n",
    "            y_train = y[X_indexes]\n",
    "            X_test = X[:, y_indexes]\n",
    "            previous_pred = self.target_predict[X_indexes]\n",
    "            \n",
    "            self.features.append(y_indexes)\n",
    "            model = self.__base_model(*self.args, **self.kwargs)\n",
    "            self.models.append(model)\n",
    "            target = self.__grad_func(y_train, previous_pred)\n",
    "            model.fit(X_train, target)\n",
    "            self.target_predict += self.learning_rate * model.predict(X_test)\n",
    "        \n",
    "    def predict(self, X):\n",
    "\n",
    "        if self.init_model is None:\n",
    "            y_pred = np.float64(np.ones(X.shape[0]) / X.shape[0])\n",
    "        else:\n",
    "            y_pred = np.float64(self.init_model.predict(X))\n",
    "        for model, feat in zip(self.models, self.features):\n",
    "            y_pred += self.learning_rate * model.predict(X[:, feat])\n",
    "        return np.around(y_pred)\n"
   ]
  },
  {
   "cell_type": "code",
   "execution_count": 180,
   "metadata": {},
   "outputs": [],
   "source": [
    "my_clf = MyGradientBoostingClassifier()\n",
    "clf = GradientBoostingClassifier()"
   ]
  },
  {
   "cell_type": "code",
   "execution_count": 181,
   "metadata": {},
   "outputs": [],
   "source": [
    "wine = load_wine()\n",
    "X_train, X_test, y_train, y_test = train_test_split(\n",
    "    wine.data, wine.target, test_size=0.1, stratify=wine.target)"
   ]
  },
  {
   "cell_type": "code",
   "execution_count": 183,
   "metadata": {},
   "outputs": [
    {
     "name": "stdout",
     "output_type": "stream",
     "text": [
      "1.0\n",
      "1.0\n"
     ]
    }
   ],
   "source": [
    "my_clf.fit(X_train, y_train)\n",
    "clf.fit(X_train, y_train)\n",
    "print(accuracy_score(y_pred=clf.predict(X_test), y_true=y_test))\n",
    "print(accuracy_score(y_pred=my_clf.predict(X_test), y_true=y_test))"
   ]
  },
  {
   "cell_type": "markdown",
   "metadata": {},
   "source": [
    "## Подбираем параметры (2 балла)\n",
    "\n",
    "Давайте попробуем применить Ваш бустинг для предсказаний цены домов в Калифорнии. Чтобы можно было попробовтаь разные функции потерь, переведем по порогу таргет в 2 класса: дорогие и дешевые дома."
   ]
  },
  {
   "cell_type": "markdown",
   "metadata": {},
   "source": [
    "В задании нужно\n",
    "\n",
    "1) Построить график точности в зависимости от числа итераций на валидации.\n",
    "\n",
    "2) Подобрать оптимальные параметры Вашего бустинга на валидации. \n"
   ]
  },
  {
   "cell_type": "code",
   "execution_count": 21,
   "metadata": {},
   "outputs": [],
   "source": [
    "from sklearn.datasets import fetch_california_housing\n",
    "X, y = fetch_california_housing(return_X_y=True)"
   ]
  },
  {
   "cell_type": "code",
   "execution_count": 22,
   "metadata": {},
   "outputs": [
    {
     "name": "stdout",
     "output_type": "stream",
     "text": [
      "(20640, 8) (20640,)\n"
     ]
    }
   ],
   "source": [
    "# Превращаем регрессию в классификацию\n",
    "y = (y > 2.0).astype(int)\n",
    "print(X.shape, y.shape)"
   ]
  },
  {
   "cell_type": "code",
   "execution_count": 23,
   "metadata": {},
   "outputs": [
    {
     "name": "stdout",
     "output_type": "stream",
     "text": [
      "1\n",
      "21\n",
      "41\n",
      "61\n",
      "81\n",
      "101\n",
      "121\n",
      "141\n",
      "161\n",
      "181\n"
     ]
    }
   ],
   "source": [
    "kf = KFold(n_splits=5)\n",
    "n_estimat = [x for x in range(1, 200, 20)]\n",
    "acc_score = []\n",
    "for n in n_estimat:\n",
    "    scores = []\n",
    "    print(n)\n",
    "    for train_ind, test_ind in kf.split(X):\n",
    "        X_train = X[train_ind]\n",
    "        y_train = y[train_ind]\n",
    "        X_test = X[test_ind]\n",
    "        y_test = y[test_ind]\n",
    "        my_clf = MyGradientBoostingClassifier(n_estimators=n)\n",
    "        my_clf.fit(X_train, y_train)\n",
    "        y_pred = my_clf.predict(X_test)\n",
    "        scores.append(accuracy_score(y_test, y_pred))\n",
    "    acc_score.append(np.mean(scores))"
   ]
  },
  {
   "cell_type": "code",
   "execution_count": 24,
   "metadata": {},
   "outputs": [
    {
     "name": "stdout",
     "output_type": "stream",
     "text": [
      "[0.5780523255813954, 0.8160368217054262, 0.8000484496124031, 0.8035368217054263, 0.8040697674418604, 0.7947189922480621, 0.8040213178294573, 0.8022286821705427, 0.7974806201550387, 0.7984496124031008]\n"
     ]
    }
   ],
   "source": [
    "print(acc_score)"
   ]
  },
  {
   "cell_type": "code",
   "execution_count": 6,
   "metadata": {},
   "outputs": [],
   "source": [
    "acc_score = [0.5780523255813954, 0.8160368217054262, 0.8000484496124031, 0.8035368217054263, 0.8040697674418604, 0.7947189922480621, 0.8040213178294573, 0.8022286821705427, 0.7974806201550387, 0.7984496124031008]"
   ]
  },
  {
   "cell_type": "code",
   "execution_count": 25,
   "metadata": {},
   "outputs": [
    {
     "data": {
      "text/plain": [
       "0.8160368217054262"
      ]
     },
     "execution_count": 25,
     "metadata": {},
     "output_type": "execute_result"
    }
   ],
   "source": [
    "np.max(acc_score)"
   ]
  },
  {
   "cell_type": "code",
   "execution_count": 9,
   "metadata": {},
   "outputs": [
    {
     "data": {
      "text/plain": [
       "Text(0, 0.5, 'accuracy')"
      ]
     },
     "execution_count": 9,
     "metadata": {},
     "output_type": "execute_result"
    },
    {
     "data": {
      "image/png": "[encoded data removed]",
      "text/plain": [
       "<Figure size 432x288 with 1 Axes>"
      ]
     },
     "metadata": {
      "needs_background": "light"
     },
     "output_type": "display_data"
    }
   ],
   "source": [
    "fig = plt.figure()\n",
    "plt.plot(n_estimat, acc_score, 'r-.')\n",
    "plt.xlabel('n_estimators')\n",
    "plt.ylabel('accuracy')"
   ]
  },
  {
   "cell_type": "code",
   "execution_count": 19,
   "metadata": {},
   "outputs": [],
   "source": [
    "param_grid = {'loss' : ['MSE', 'epx', 'logloss'], \n",
    "         'n_estimators' : [5, 10, 15, 20, 25], \n",
    "         'learning_rate' : [0.1, 0.2, 0.3, 0.4, 0.5], \n",
    "          'colsample' : [0.2, 0.5, 0.7, 1],\n",
    "          'subsample' : [0.2, 0.5, 0.7, 1], \n",
    "         }"
   ]
  },
  {
   "cell_type": "code",
   "execution_count": 81,
   "metadata": {},
   "outputs": [],
   "source": [
    "params = {}"
   ]
  },
  {
   "cell_type": "code",
   "execution_count": 80,
   "metadata": {},
   "outputs": [
    {
     "name": "stdout",
     "output_type": "stream",
     "text": [
      "MSE\n",
      "epx\n",
      "logloss\n"
     ]
    }
   ],
   "source": [
    "kf = KFold(n_splits=5)\n",
    "loss = ['MSE', 'epx', 'logloss']\n",
    "acc_score = []\n",
    "for l in loss:\n",
    "    scores = []\n",
    "    for train_ind, test_ind in kf.split(X):\n",
    "        X_train = X[train_ind]\n",
    "        y_train = y[train_ind]\n",
    "        X_test = X[test_ind]\n",
    "        y_test = y[test_ind]\n",
    "        my_clf = MyGradientBoostingClassifier(loss=l)\n",
    "        my_clf.fit(X_train, y_train)\n",
    "        y_pred = my_clf.predict(X_test)\n",
    "        scores.append(accuracy_score(y_test, y_pred))\n",
    "    acc_score.append(np.mean(scores))"
   ]
  },
  {
   "cell_type": "code",
   "execution_count": 82,
   "metadata": {},
   "outputs": [
    {
     "name": "stdout",
     "output_type": "stream",
     "text": [
      "[0.7996608527131783, 0.7762596899224807, 0.5780523255813954]\n",
      "0.7996608527131783\n",
      "MSE\n"
     ]
    }
   ],
   "source": [
    "print(acc_score)\n",
    "print(np.max(acc_score))\n",
    "print(loss[np.argmax(acc_score)])"
   ]
  },
  {
   "cell_type": "code",
   "execution_count": 83,
   "metadata": {},
   "outputs": [],
   "source": [
    "params['loss'] = loss[np.argmax(acc_score)]"
   ]
  },
  {
   "cell_type": "markdown",
   "metadata": {},
   "source": [
    "loss = MSE"
   ]
  },
  {
   "cell_type": "code",
   "execution_count": 90,
   "metadata": {},
   "outputs": [
    {
     "data": {
      "text/plain": [
       "{'loss': 'MSE', 'n_estimators': 25}"
      ]
     },
     "execution_count": 90,
     "metadata": {},
     "output_type": "execute_result"
    }
   ],
   "source": [
    "params"
   ]
  },
  {
   "cell_type": "code",
   "execution_count": 87,
   "metadata": {},
   "outputs": [],
   "source": [
    "kf = KFold(n_splits=5)\n",
    "n_estimators = [5, 10, 15, 20, 25]\n",
    "acc_score = []\n",
    "for n in n_estimators:\n",
    "    scores = []\n",
    "    for train_ind, test_ind in kf.split(X):\n",
    "        X_train = X[train_ind]\n",
    "        y_train = y[train_ind]\n",
    "        X_test = X[test_ind]\n",
    "        y_test = y[test_ind]\n",
    "        my_clf = MyGradientBoostingClassifier(n_estimators = n, **params)\n",
    "        my_clf.fit(X_train, y_train)\n",
    "        y_pred = my_clf.predict(X_test)\n",
    "        scores.append(accuracy_score(y_test, y_pred))\n",
    "    acc_score.append(np.mean(scores))"
   ]
  },
  {
   "cell_type": "code",
   "execution_count": 89,
   "metadata": {},
   "outputs": [
    {
     "name": "stdout",
     "output_type": "stream",
     "text": [
      "[0.764437984496124, 0.7838662790697675, 0.8103682170542635, 0.8000484496124031, 0.8105620155038759]\n",
      "0.8105620155038759\n",
      "25\n"
     ]
    }
   ],
   "source": [
    "print(acc_score)\n",
    "print(np.max(acc_score))\n",
    "print(n_estimators[np.argmax(acc_score)])\n",
    "params['n_estimators'] = n_estimators[np.argmax(acc_score)]"
   ]
  },
  {
   "cell_type": "markdown",
   "metadata": {},
   "source": [
    "n_estimators = 25"
   ]
  },
  {
   "cell_type": "code",
   "execution_count": 92,
   "metadata": {},
   "outputs": [],
   "source": [
    "kf = KFold(n_splits=5)\n",
    "learning_rate = [0.1, 0.2, 0.3, 0.4, 0.5] \n",
    "acc_score = []\n",
    "for l in learning_rate:\n",
    "    scores = []\n",
    "    for train_ind, test_ind in kf.split(X):\n",
    "        X_train = X[train_ind]\n",
    "        y_train = y[train_ind]\n",
    "        X_test = X[test_ind]\n",
    "        y_test = y[test_ind]\n",
    "        my_clf = MyGradientBoostingClassifier(learning_rate = l, **params)\n",
    "        my_clf.fit(X_train, y_train)\n",
    "        y_pred = my_clf.predict(X_test)\n",
    "        scores.append(accuracy_score(y_test, y_pred))\n",
    "    acc_score.append(np.mean(scores))"
   ]
  },
  {
   "cell_type": "code",
   "execution_count": 93,
   "metadata": {},
   "outputs": [
    {
     "name": "stdout",
     "output_type": "stream",
     "text": [
      "[0.8091569767441861, 0.7774224806201551, 0.7246124031007751, 0.6005813953488371, 0.5354651162790697]\n",
      "0.8091569767441861\n",
      "0.1\n"
     ]
    }
   ],
   "source": [
    "print(acc_score)\n",
    "print(np.max(acc_score))\n",
    "print(learning_rate[np.argmax(acc_score)])\n",
    "params['learning_rate'] = learning_rate[np.argmax(acc_score)]"
   ]
  },
  {
   "cell_type": "code",
   "execution_count": 94,
   "metadata": {},
   "outputs": [],
   "source": [
    "kf = KFold(n_splits=5)\n",
    "colsample = [0.2, 0.5, 0.7, 1]\n",
    "acc_score = []\n",
    "for c in colsample:\n",
    "    scores = []\n",
    "    for train_ind, test_ind in kf.split(X):\n",
    "        X_train = X[train_ind]\n",
    "        y_train = y[train_ind]\n",
    "        X_test = X[test_ind]\n",
    "        y_test = y[test_ind]\n",
    "        my_clf = MyGradientBoostingClassifier(colsample = c, **params)\n",
    "        my_clf.fit(X_train, y_train)\n",
    "        y_pred = my_clf.predict(X_test)\n",
    "        scores.append(accuracy_score(y_test, y_pred))\n",
    "    acc_score.append(np.mean(scores))"
   ]
  },
  {
   "cell_type": "code",
   "execution_count": 95,
   "metadata": {},
   "outputs": [
    {
     "name": "stdout",
     "output_type": "stream",
     "text": [
      "[0.6354651162790697, 0.7456879844961241, 0.7891472868217054, 0.787015503875969]\n",
      "0.7891472868217054\n",
      "0.7\n"
     ]
    }
   ],
   "source": [
    "print(acc_score)\n",
    "print(np.max(acc_score))\n",
    "print(colsample[np.argmax(acc_score)])\n",
    "params['colsample'] = colsample[np.argmax(acc_score)]"
   ]
  },
  {
   "cell_type": "code",
   "execution_count": 96,
   "metadata": {},
   "outputs": [],
   "source": [
    "kf = KFold(n_splits=5)\n",
    "subsample = [0.2, 0.5, 0.7, 1] \n",
    "acc_score = []\n",
    "for s in subsample:\n",
    "    scores = []\n",
    "    for train_ind, test_ind in kf.split(X):\n",
    "        X_train = X[train_ind]\n",
    "        y_train = y[train_ind]\n",
    "        X_test = X[test_ind]\n",
    "        y_test = y[test_ind]\n",
    "        my_clf = MyGradientBoostingClassifier(subsample = s, **params)\n",
    "        my_clf.fit(X_train, y_train)\n",
    "        y_pred = my_clf.predict(X_test)\n",
    "        scores.append(accuracy_score(y_test, y_pred))\n",
    "    acc_score.append(np.mean(scores))"
   ]
  },
  {
   "cell_type": "code",
   "execution_count": 97,
   "metadata": {},
   "outputs": [
    {
     "name": "stdout",
     "output_type": "stream",
     "text": [
      "[0.7250968992248061, 0.7847383720930232, 0.7751453488372093, 0.789001937984496]\n",
      "0.789001937984496\n",
      "1\n"
     ]
    }
   ],
   "source": [
    "print(acc_score)\n",
    "print(np.max(acc_score))\n",
    "print(subsample[np.argmax(acc_score)])\n",
    "params['subsample'] = subsample[np.argmax(acc_score)]"
   ]
  },
  {
   "cell_type": "code",
   "execution_count": 98,
   "metadata": {},
   "outputs": [
    {
     "data": {
      "text/plain": [
       "{'loss': 'MSE',\n",
       " 'n_estimators': 25,\n",
       " 'learning_rate': 0.1,\n",
       " 'colsample': 0.7,\n",
       " 'subsample': 1}"
      ]
     },
     "execution_count": 98,
     "metadata": {},
     "output_type": "execute_result"
    }
   ],
   "source": [
    "params"
   ]
  },
  {
   "cell_type": "code",
   "execution_count": 100,
   "metadata": {},
   "outputs": [],
   "source": [
    "X_train, X_test, y_train, y_test = train_test_split(X, y, test_size = 0.2, shuffle = True, random_state = 22)"
   ]
  },
  {
   "cell_type": "code",
   "execution_count": 102,
   "metadata": {},
   "outputs": [
    {
     "data": {
      "text/plain": [
       "0.8771802325581395"
      ]
     },
     "execution_count": 102,
     "metadata": {},
     "output_type": "execute_result"
    }
   ],
   "source": [
    "my_clf = MyGradientBoostingClassifier(**params)\n",
    "my_clf.fit(X_train, y_train)\n",
    "accuracy_score(y_test, my_clf.predict(X_test))"
   ]
  },
  {
   "cell_type": "markdown",
   "metadata": {},
   "source": [
    "## BooBag BagBoo (1 балл)\n",
    "\n"
   ]
  },
  {
   "cell_type": "markdown",
   "metadata": {},
   "source": [
    "Попробуем объединить бустинг и бэгинг. Давайте\n",
    "\n",
    "1) в качестве базовой модели брать не дерево решений, а случайный лес (из sklearn)\n",
    "\n",
    "2) обучать N бустингов на бустрапированной выборке, а затем предикт усреднять"
   ]
  },
  {
   "cell_type": "markdown",
   "metadata": {},
   "source": [
    "Попробуйте обе этих стратегии на данных из прошлого задания. Получилось ли улучшить качество? Почему?"
   ]
  },
  {
   "cell_type": "code",
   "execution_count": 104,
   "metadata": {},
   "outputs": [
    {
     "data": {
      "text/plain": [
       "0.8839631782945736"
      ]
     },
     "execution_count": 104,
     "metadata": {},
     "output_type": "execute_result"
    }
   ],
   "source": [
    "my_clf = MyGradientBoostingClassifier(**params)\n",
    "my_clf.fit(X_train, y_train, base_model=RandomForestRegressor)\n",
    "accuracy_score(y_test, my_clf.predict(X_test))"
   ]
  },
  {
   "cell_type": "code",
   "execution_count": 138,
   "metadata": {},
   "outputs": [],
   "source": [
    "def get_samples(X, y):\n",
    "    n_samples = len(X)\n",
    "    indx = np.random.randint(0, len(X), len(X))\n",
    "    return X[indx], y[indx]"
   ]
  },
  {
   "cell_type": "code",
   "execution_count": 139,
   "metadata": {},
   "outputs": [],
   "source": [
    "clf = []"
   ]
  },
  {
   "cell_type": "code",
   "execution_count": 141,
   "metadata": {},
   "outputs": [],
   "source": [
    "for N in range(15):\n",
    "    X_bootstrap, y_bootstrap = get_samples(X_train, y_train)\n",
    "    my_clf = MyGradientBoostingClassifier(**params)\n",
    "    my_clf.fit(X_bootstrap, y_bootstrap)\n",
    "    clf.append(my_clf)"
   ]
  },
  {
   "cell_type": "code",
   "execution_count": 155,
   "metadata": {},
   "outputs": [],
   "source": [
    "pred = [my_clf.predict(X_test) for my_clf in clf]\n",
    "y_pred = (np.mean(pred, axis=0) > 0.5).astype('int')"
   ]
  },
  {
   "cell_type": "code",
   "execution_count": 156,
   "metadata": {},
   "outputs": [
    {
     "data": {
      "text/plain": [
       "0.8946220930232558"
      ]
     },
     "execution_count": 156,
     "metadata": {},
     "output_type": "execute_result"
    }
   ],
   "source": [
    "accuracy_score(y_test, y_pred)"
   ]
  },
  {
   "cell_type": "markdown",
   "metadata": {},
   "source": [
    "Качество улучшилось. \n",
    "В первом случае предсказание строится путем усреднения предсказаний каждого из построенных деревьев, в результате получаем более несмещенную модель. \n",
    "В случае BagBoo за счет бустинга мы уменьшаем дисперсию построенных моделей"
   ]
  },
  {
   "cell_type": "markdown",
   "metadata": {
    "collapsed": true
   },
   "source": [
    "## Умная инициализация (1 балл)\n",
    "\n",
    "Попробуйте брать в качестве инициализации бустинга не константу, а какой-то алгоритм и уже от его предикта стартовать итерации бустинга. Попробуйте разные модели из sklearn: линейные модели, рандом форест, svm..\n",
    "\n",
    "Получилось ли улучшить качество? Почему?\n",
    "\n"
   ]
  },
  {
   "cell_type": "code",
   "execution_count": 168,
   "metadata": {},
   "outputs": [
    {
     "data": {
      "text/plain": [
       "0.8607073643410853"
      ]
     },
     "execution_count": 168,
     "metadata": {},
     "output_type": "execute_result"
    }
   ],
   "source": [
    "my_clf = MyGradientBoostingClassifier()\n",
    "my_clf.fit(X_train, y_train)\n",
    "y_pred = my_clf.predict(X_test)\n",
    "accuracy_score(y_test, y_pred)"
   ]
  },
  {
   "cell_type": "code",
   "execution_count": 169,
   "metadata": {},
   "outputs": [
    {
     "data": {
      "text/plain": [
       "0.8616763565891473"
      ]
     },
     "execution_count": 169,
     "metadata": {},
     "output_type": "execute_result"
    }
   ],
   "source": [
    "my_clf = MyGradientBoostingClassifier()\n",
    "my_clf.fit(X_train, y_train, init_model=SVC)\n",
    "y_pred = my_clf.predict(X_test)\n",
    "accuracy_score(y_test, y_pred)"
   ]
  },
  {
   "cell_type": "code",
   "execution_count": 170,
   "metadata": {},
   "outputs": [
    {
     "data": {
      "text/plain": [
       "0.8347868217054264"
      ]
     },
     "execution_count": 170,
     "metadata": {},
     "output_type": "execute_result"
    }
   ],
   "source": [
    "my_clf = MyGradientBoostingClassifier()\n",
    "my_clf.fit(X_train, y_train, init_model=SGDClassifier)\n",
    "y_pred = my_clf.predict(X_test)\n",
    "accuracy_score(y_test, y_pred)"
   ]
  },
  {
   "cell_type": "code",
   "execution_count": 171,
   "metadata": {},
   "outputs": [
    {
     "data": {
      "text/plain": [
       "0.8832364341085271"
      ]
     },
     "execution_count": 171,
     "metadata": {},
     "output_type": "execute_result"
    }
   ],
   "source": [
    "my_clf = MyGradientBoostingClassifier()\n",
    "my_clf.fit(X_train, y_train, init_model=RandomForestRegressor)\n",
    "y_pred = my_clf.predict(X_test)\n",
    "accuracy_score(y_test, y_pred)"
   ]
  },
  {
   "cell_type": "code",
   "execution_count": 172,
   "metadata": {},
   "outputs": [
    {
     "data": {
      "text/plain": [
       "0.8829941860465116"
      ]
     },
     "execution_count": 172,
     "metadata": {},
     "output_type": "execute_result"
    }
   ],
   "source": [
    "my_clf = MyGradientBoostingClassifier()\n",
    "my_clf.fit(X_train, y_train, init_model=RandomForestClassifier)\n",
    "y_pred = my_clf.predict(X_test)\n",
    "accuracy_score(y_test, y_pred)"
   ]
  },
  {
   "cell_type": "markdown",
   "metadata": {},
   "source": [
    "В случае инициализации RandomForest качество стало лучше, тк после инициализации RF получаем более точное решение"
   ]
  },
  {
   "cell_type": "markdown",
   "metadata": {},
   "source": [
    "## Фидбек (бесценно)"
   ]
  },
  {
   "cell_type": "markdown",
   "metadata": {},
   "source": [
    "* Какие аспекты обучения  ансамблей Вам показались непонятными? Какое место стоит дополнительно объяснить?"
   ]
  },
  {
   "cell_type": "markdown",
   "metadata": {},
   "source": [
    "### Ваш ответ здесь"
   ]
  },
  {
   "cell_type": "markdown",
   "metadata": {},
   "source": [
    "* Здесь Вы можете оставить отзыв о этой домашней работе или о всем курсе."
   ]
  },
  {
   "cell_type": "markdown",
   "metadata": {},
   "source": [
    "### ВАШ ОТЗЫВ ЗДЕСЬ\n",
    "\n"
   ]
  },
  {
   "cell_type": "code",
   "execution_count": null,
   "metadata": {
    "collapsed": true
   },
   "outputs": [],
   "source": []
  },
  {
   "cell_type": "code",
   "execution_count": null,
   "metadata": {
    "collapsed": true
   },
   "outputs": [],
   "source": []
  }
 ],
 "metadata": {
  "anaconda-cloud": {},
  "kernelspec": {
   "display_name": "Python 3",
   "language": "python",
   "name": "python3"
  },
  "language_info": {
   "codemirror_mode": {
    "name": "ipython",
    "version": 3
   },
   "file_extension": ".py",
   "mimetype": "text/x-python",
   "name": "python",
   "nbconvert_exporter": "python",
   "pygments_lexer": "ipython3",
   "version": "3.8.5"
  }
 },
 "nbformat": 4,
 "nbformat_minor": 2
}
